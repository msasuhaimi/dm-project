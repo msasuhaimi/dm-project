{
 "cells": [
  {
   "cell_type": "markdown",
   "metadata": {
    "id": "tRTTZiJ6KK65"
   },
   "source": [
    "# Data Mining Project\n"
   ]
  },
  {
   "cell_type": "markdown",
   "metadata": {
    "id": "SxvfByWWruA5"
   },
   "source": [
    "## Importing packages and initializing dataframes"
   ]
  },
  {
   "cell_type": "code",
   "execution_count": 396,
   "metadata": {
    "id": "3MQJCWB5J0F8"
   },
   "outputs": [],
   "source": [
    "import numpy as np\n",
    "import altair as alt\n",
    "import pandas as pd\n",
    "\n",
    "from matplotlib import pyplot as plt\n",
    "import seaborn as sns"
   ]
  },
  {
   "cell_type": "code",
   "execution_count": 397,
   "metadata": {
    "id": "KTuSA4S21OHA"
   },
   "outputs": [],
   "source": [
    "sns.set_theme(style=\"whitegrid\")"
   ]
  },
  {
   "cell_type": "code",
   "execution_count": 398,
   "metadata": {
    "id": "xpcmzK2xMDt5"
   },
   "outputs": [],
   "source": [
    "df = pd.read_csv(\"LaundryData.csv\")"
   ]
  },
  {
   "cell_type": "code",
   "execution_count": 399,
   "metadata": {
    "colab": {
     "base_uri": "https://localhost:8080/",
     "height": 204
    },
    "id": "uS1cjoWFrmRX",
    "outputId": "e32b8191-c1ad-4479-a247-a4708b5ee92e"
   },
   "outputs": [
    {
     "data": {
      "text/html": [
       "<div>\n",
       "<style scoped>\n",
       "    .dataframe tbody tr th:only-of-type {\n",
       "        vertical-align: middle;\n",
       "    }\n",
       "\n",
       "    .dataframe tbody tr th {\n",
       "        vertical-align: top;\n",
       "    }\n",
       "\n",
       "    .dataframe thead th {\n",
       "        text-align: right;\n",
       "    }\n",
       "</style>\n",
       "<table border=\"1\" class=\"dataframe\">\n",
       "  <thead>\n",
       "    <tr style=\"text-align: right;\">\n",
       "      <th></th>\n",
       "      <th>No</th>\n",
       "      <th>Date</th>\n",
       "      <th>Time</th>\n",
       "      <th>Race</th>\n",
       "      <th>Gender</th>\n",
       "      <th>Body_Size</th>\n",
       "      <th>Age_Range</th>\n",
       "      <th>With_Kids</th>\n",
       "      <th>Kids_Category</th>\n",
       "      <th>Basket_Size</th>\n",
       "      <th>Basket_colour</th>\n",
       "      <th>Attire</th>\n",
       "      <th>Shirt_Colour</th>\n",
       "      <th>shirt_type</th>\n",
       "      <th>Pants_Colour</th>\n",
       "      <th>pants_type</th>\n",
       "      <th>Wash_Item</th>\n",
       "      <th>Washer_No</th>\n",
       "      <th>Dryer_No</th>\n",
       "      <th>Spectacles</th>\n",
       "    </tr>\n",
       "  </thead>\n",
       "  <tbody>\n",
       "    <tr>\n",
       "      <th>0</th>\n",
       "      <td>1</td>\n",
       "      <td>19/10/2015</td>\n",
       "      <td>20:17:50</td>\n",
       "      <td>malay</td>\n",
       "      <td>male</td>\n",
       "      <td>moderate</td>\n",
       "      <td>28.0</td>\n",
       "      <td>yes</td>\n",
       "      <td>young</td>\n",
       "      <td>big</td>\n",
       "      <td>red</td>\n",
       "      <td>casual</td>\n",
       "      <td>blue</td>\n",
       "      <td>short_sleeve</td>\n",
       "      <td>black</td>\n",
       "      <td>short</td>\n",
       "      <td>clothes</td>\n",
       "      <td>3</td>\n",
       "      <td>10</td>\n",
       "      <td>no</td>\n",
       "    </tr>\n",
       "    <tr>\n",
       "      <th>1</th>\n",
       "      <td>2</td>\n",
       "      <td>19/10/2015</td>\n",
       "      <td>20:28:42</td>\n",
       "      <td>indian</td>\n",
       "      <td>male</td>\n",
       "      <td>thin</td>\n",
       "      <td>32.0</td>\n",
       "      <td>no</td>\n",
       "      <td>no_kids</td>\n",
       "      <td>big</td>\n",
       "      <td>green</td>\n",
       "      <td>casual</td>\n",
       "      <td>white</td>\n",
       "      <td>short_sleeve</td>\n",
       "      <td>blue_jeans</td>\n",
       "      <td>long</td>\n",
       "      <td>clothes</td>\n",
       "      <td>6</td>\n",
       "      <td>9</td>\n",
       "      <td>no</td>\n",
       "    </tr>\n",
       "    <tr>\n",
       "      <th>2</th>\n",
       "      <td>3</td>\n",
       "      <td>19/10/2015</td>\n",
       "      <td>20:58:31</td>\n",
       "      <td>malay</td>\n",
       "      <td>female</td>\n",
       "      <td>moderate</td>\n",
       "      <td>30.0</td>\n",
       "      <td>no</td>\n",
       "      <td>no_kids</td>\n",
       "      <td>big</td>\n",
       "      <td>blue</td>\n",
       "      <td>casual</td>\n",
       "      <td>red</td>\n",
       "      <td>short_sleeve</td>\n",
       "      <td>black</td>\n",
       "      <td>long</td>\n",
       "      <td>clothes</td>\n",
       "      <td>4</td>\n",
       "      <td>10</td>\n",
       "      <td>no</td>\n",
       "    </tr>\n",
       "    <tr>\n",
       "      <th>3</th>\n",
       "      <td>4</td>\n",
       "      <td>19/10/2015</td>\n",
       "      <td>21:31:28</td>\n",
       "      <td>indian</td>\n",
       "      <td>male</td>\n",
       "      <td>thin</td>\n",
       "      <td>51.0</td>\n",
       "      <td>no</td>\n",
       "      <td>no_kids</td>\n",
       "      <td>NaN</td>\n",
       "      <td>black</td>\n",
       "      <td>casual</td>\n",
       "      <td>black</td>\n",
       "      <td>short_sleeve</td>\n",
       "      <td>yellow</td>\n",
       "      <td>short</td>\n",
       "      <td>clothes</td>\n",
       "      <td>5</td>\n",
       "      <td>9</td>\n",
       "      <td>no</td>\n",
       "    </tr>\n",
       "    <tr>\n",
       "      <th>4</th>\n",
       "      <td>5</td>\n",
       "      <td>19/10/2015</td>\n",
       "      <td>21:40:28</td>\n",
       "      <td>indian</td>\n",
       "      <td>male</td>\n",
       "      <td>moderate</td>\n",
       "      <td>34.0</td>\n",
       "      <td>no</td>\n",
       "      <td>no_kids</td>\n",
       "      <td>big</td>\n",
       "      <td>blue</td>\n",
       "      <td>casual</td>\n",
       "      <td>blue</td>\n",
       "      <td>short_sleeve</td>\n",
       "      <td>white</td>\n",
       "      <td>long</td>\n",
       "      <td>clothes</td>\n",
       "      <td>3</td>\n",
       "      <td>9</td>\n",
       "      <td>no</td>\n",
       "    </tr>\n",
       "  </tbody>\n",
       "</table>\n",
       "</div>"
      ],
      "text/plain": [
       "   No        Date      Time    Race  Gender Body_Size  Age_Range With_Kids  \\\n",
       "0   1  19/10/2015  20:17:50   malay    male  moderate       28.0       yes   \n",
       "1   2  19/10/2015  20:28:42  indian    male      thin       32.0        no   \n",
       "2   3  19/10/2015  20:58:31   malay  female  moderate       30.0        no   \n",
       "3   4  19/10/2015  21:31:28  indian    male      thin       51.0        no   \n",
       "4   5  19/10/2015  21:40:28  indian    male  moderate       34.0        no   \n",
       "\n",
       "  Kids_Category Basket_Size Basket_colour  Attire Shirt_Colour    shirt_type  \\\n",
       "0         young         big           red  casual         blue  short_sleeve   \n",
       "1       no_kids         big         green  casual        white  short_sleeve   \n",
       "2       no_kids         big          blue  casual          red  short_sleeve   \n",
       "3       no_kids         NaN         black  casual        black  short_sleeve   \n",
       "4       no_kids         big          blue  casual         blue  short_sleeve   \n",
       "\n",
       "  Pants_Colour pants_type Wash_Item  Washer_No  Dryer_No Spectacles  \n",
       "0        black      short   clothes          3        10         no  \n",
       "1   blue_jeans       long   clothes          6         9         no  \n",
       "2        black       long   clothes          4        10         no  \n",
       "3       yellow      short   clothes          5         9         no  \n",
       "4        white       long   clothes          3         9         no  "
      ]
     },
     "execution_count": 399,
     "metadata": {},
     "output_type": "execute_result"
    }
   ],
   "source": [
    "df.head()"
   ]
  },
  {
   "cell_type": "markdown",
   "metadata": {
    "id": "8x9ILKZ3r1r9"
   },
   "source": [
    "## Exploratory Data Analysis and Data Preprocessing"
   ]
  },
  {
   "cell_type": "markdown",
   "metadata": {
    "id": "LHRmMAKeA8aV"
   },
   "source": [
    "### What are the data types for each column?"
   ]
  },
  {
   "cell_type": "code",
   "execution_count": 400,
   "metadata": {
    "colab": {
     "base_uri": "https://localhost:8080/"
    },
    "id": "l4p6jS77r9ea",
    "outputId": "ac094ca0-37ee-4766-8395-ca9521cf47dc"
   },
   "outputs": [
    {
     "name": "stdout",
     "output_type": "stream",
     "text": [
      "<class 'pandas.core.frame.DataFrame'>\n",
      "RangeIndex: 807 entries, 0 to 806\n",
      "Data columns (total 20 columns):\n",
      " #   Column         Non-Null Count  Dtype  \n",
      "---  ------         --------------  -----  \n",
      " 0   No             807 non-null    int64  \n",
      " 1   Date           807 non-null    object \n",
      " 2   Time           807 non-null    object \n",
      " 3   Race           797 non-null    object \n",
      " 4   Gender         793 non-null    object \n",
      " 5   Body_Size      790 non-null    object \n",
      " 6   Age_Range      799 non-null    float64\n",
      " 7   With_Kids      794 non-null    object \n",
      " 8   Kids_Category  777 non-null    object \n",
      " 9   Basket_Size    801 non-null    object \n",
      " 10  Basket_colour  798 non-null    object \n",
      " 11  Attire         776 non-null    object \n",
      " 12  Shirt_Colour   798 non-null    object \n",
      " 13  shirt_type     770 non-null    object \n",
      " 14  Pants_Colour   802 non-null    object \n",
      " 15  pants_type     798 non-null    object \n",
      " 16  Wash_Item      784 non-null    object \n",
      " 17  Washer_No      807 non-null    int64  \n",
      " 18  Dryer_No       807 non-null    int64  \n",
      " 19  Spectacles     807 non-null    object \n",
      "dtypes: float64(1), int64(3), object(16)\n",
      "memory usage: 126.2+ KB\n"
     ]
    }
   ],
   "source": [
    "df.info()"
   ]
  },
  {
   "cell_type": "markdown",
   "metadata": {
    "id": "wuBs3HmbBJjW"
   },
   "source": [
    "### Are there any null values in each column?"
   ]
  },
  {
   "cell_type": "code",
   "execution_count": 401,
   "metadata": {
    "colab": {
     "base_uri": "https://localhost:8080/"
    },
    "id": "pbsW2-s2-fBT",
    "outputId": "82f4fa16-2704-43cf-ce67-b1e93983aea7"
   },
   "outputs": [
    {
     "data": {
      "text/plain": [
       "No                0\n",
       "Date              0\n",
       "Time              0\n",
       "Race             10\n",
       "Gender           14\n",
       "Body_Size        17\n",
       "Age_Range         8\n",
       "With_Kids        13\n",
       "Kids_Category    30\n",
       "Basket_Size       6\n",
       "Basket_colour     9\n",
       "Attire           31\n",
       "Shirt_Colour      9\n",
       "shirt_type       37\n",
       "Pants_Colour      5\n",
       "pants_type        9\n",
       "Wash_Item        23\n",
       "Washer_No         0\n",
       "Dryer_No          0\n",
       "Spectacles        0\n",
       "dtype: int64"
      ]
     },
     "execution_count": 401,
     "metadata": {},
     "output_type": "execute_result"
    }
   ],
   "source": [
    "df.isnull().sum()"
   ]
  },
  {
   "cell_type": "code",
   "execution_count": 402,
   "metadata": {
    "colab": {
     "base_uri": "https://localhost:8080/",
     "height": 850
    },
    "id": "XqKyjnmfsLys",
    "outputId": "adf643aa-c580-42c6-c486-fc3f4f0e83f0"
   },
   "outputs": [
    {
     "data": {
      "text/plain": [
       "Race             10\n",
       "Gender           14\n",
       "Body_Size        17\n",
       "Age_Range         8\n",
       "With_Kids        13\n",
       "Kids_Category    30\n",
       "Basket_Size       6\n",
       "Basket_colour     9\n",
       "Attire           31\n",
       "Shirt_Colour      9\n",
       "shirt_type       37\n",
       "Pants_Colour      5\n",
       "pants_type        9\n",
       "Wash_Item        23\n",
       "dtype: int64"
      ]
     },
     "metadata": {},
     "output_type": "display_data"
    },
    {
     "data": {
      "text/plain": [
       "807"
      ]
     },
     "metadata": {},
     "output_type": "display_data"
    },
    {
     "name": "stdout",
     "output_type": "stream",
     "text": [
      "<class 'pandas.core.frame.DataFrame'>\n",
      "Int64Index: 165 entries, 3 to 801\n",
      "Data columns (total 14 columns):\n",
      " #   Column         Non-Null Count  Dtype  \n",
      "---  ------         --------------  -----  \n",
      " 0   Race           155 non-null    object \n",
      " 1   Gender         151 non-null    object \n",
      " 2   Body_Size      148 non-null    object \n",
      " 3   Age_Range      157 non-null    float64\n",
      " 4   With_Kids      152 non-null    object \n",
      " 5   Kids_Category  135 non-null    object \n",
      " 6   Basket_Size    159 non-null    object \n",
      " 7   Basket_colour  156 non-null    object \n",
      " 8   Attire         134 non-null    object \n",
      " 9   Shirt_Colour   156 non-null    object \n",
      " 10  shirt_type     128 non-null    object \n",
      " 11  Pants_Colour   160 non-null    object \n",
      " 12  pants_type     156 non-null    object \n",
      " 13  Wash_Item      142 non-null    object \n",
      "dtypes: float64(1), object(13)\n",
      "memory usage: 19.3+ KB\n"
     ]
    },
    {
     "data": {
      "text/plain": [
       "None"
      ]
     },
     "metadata": {},
     "output_type": "display_data"
    },
    {
     "data": {
      "text/html": [
       "<div>\n",
       "<style scoped>\n",
       "    .dataframe tbody tr th:only-of-type {\n",
       "        vertical-align: middle;\n",
       "    }\n",
       "\n",
       "    .dataframe tbody tr th {\n",
       "        vertical-align: top;\n",
       "    }\n",
       "\n",
       "    .dataframe thead th {\n",
       "        text-align: right;\n",
       "    }\n",
       "</style>\n",
       "<table border=\"1\" class=\"dataframe\">\n",
       "  <thead>\n",
       "    <tr style=\"text-align: right;\">\n",
       "      <th></th>\n",
       "      <th>Race</th>\n",
       "      <th>Gender</th>\n",
       "      <th>Body_Size</th>\n",
       "      <th>Age_Range</th>\n",
       "      <th>With_Kids</th>\n",
       "      <th>Kids_Category</th>\n",
       "      <th>Basket_Size</th>\n",
       "      <th>Basket_colour</th>\n",
       "      <th>Attire</th>\n",
       "      <th>Shirt_Colour</th>\n",
       "      <th>shirt_type</th>\n",
       "      <th>Pants_Colour</th>\n",
       "      <th>pants_type</th>\n",
       "      <th>Wash_Item</th>\n",
       "    </tr>\n",
       "  </thead>\n",
       "  <tbody>\n",
       "    <tr>\n",
       "      <th>3</th>\n",
       "      <td>indian</td>\n",
       "      <td>male</td>\n",
       "      <td>thin</td>\n",
       "      <td>51.0</td>\n",
       "      <td>no</td>\n",
       "      <td>no_kids</td>\n",
       "      <td>NaN</td>\n",
       "      <td>black</td>\n",
       "      <td>casual</td>\n",
       "      <td>black</td>\n",
       "      <td>short_sleeve</td>\n",
       "      <td>yellow</td>\n",
       "      <td>short</td>\n",
       "      <td>clothes</td>\n",
       "    </tr>\n",
       "    <tr>\n",
       "      <th>5</th>\n",
       "      <td>NaN</td>\n",
       "      <td>male</td>\n",
       "      <td>fat</td>\n",
       "      <td>50.0</td>\n",
       "      <td>no</td>\n",
       "      <td>no_kids</td>\n",
       "      <td>small</td>\n",
       "      <td>white</td>\n",
       "      <td>casual</td>\n",
       "      <td>brown</td>\n",
       "      <td>NaN</td>\n",
       "      <td>blue_jeans</td>\n",
       "      <td>long</td>\n",
       "      <td>clothes</td>\n",
       "    </tr>\n",
       "    <tr>\n",
       "      <th>6</th>\n",
       "      <td>NaN</td>\n",
       "      <td>female</td>\n",
       "      <td>fat</td>\n",
       "      <td>45.0</td>\n",
       "      <td>no</td>\n",
       "      <td>no_kids</td>\n",
       "      <td>big</td>\n",
       "      <td>pink</td>\n",
       "      <td>traditional</td>\n",
       "      <td>blue</td>\n",
       "      <td>NaN</td>\n",
       "      <td>black</td>\n",
       "      <td>long</td>\n",
       "      <td>clothes</td>\n",
       "    </tr>\n",
       "    <tr>\n",
       "      <th>7</th>\n",
       "      <td>indian</td>\n",
       "      <td>male</td>\n",
       "      <td>thin</td>\n",
       "      <td>49.0</td>\n",
       "      <td>no</td>\n",
       "      <td>NaN</td>\n",
       "      <td>big</td>\n",
       "      <td>blue</td>\n",
       "      <td>casual</td>\n",
       "      <td>white</td>\n",
       "      <td>short_sleeve</td>\n",
       "      <td>brown</td>\n",
       "      <td>long</td>\n",
       "      <td>clothes</td>\n",
       "    </tr>\n",
       "    <tr>\n",
       "      <th>9</th>\n",
       "      <td>chinese</td>\n",
       "      <td>male</td>\n",
       "      <td>moderate</td>\n",
       "      <td>33.0</td>\n",
       "      <td>no</td>\n",
       "      <td>no_kids</td>\n",
       "      <td>small</td>\n",
       "      <td>pink</td>\n",
       "      <td>casual</td>\n",
       "      <td>white</td>\n",
       "      <td>short_sleeve</td>\n",
       "      <td>blue_jeans</td>\n",
       "      <td>short</td>\n",
       "      <td>NaN</td>\n",
       "    </tr>\n",
       "  </tbody>\n",
       "</table>\n",
       "</div>"
      ],
      "text/plain": [
       "      Race  Gender Body_Size  Age_Range With_Kids Kids_Category Basket_Size  \\\n",
       "3   indian    male      thin       51.0        no       no_kids         NaN   \n",
       "5      NaN    male       fat       50.0        no       no_kids       small   \n",
       "6      NaN  female       fat       45.0        no       no_kids         big   \n",
       "7   indian    male      thin       49.0        no           NaN         big   \n",
       "9  chinese    male  moderate       33.0        no       no_kids       small   \n",
       "\n",
       "  Basket_colour       Attire Shirt_Colour    shirt_type Pants_Colour  \\\n",
       "3         black       casual        black  short_sleeve       yellow   \n",
       "5         white       casual        brown           NaN   blue_jeans   \n",
       "6          pink  traditional         blue           NaN        black   \n",
       "7          blue       casual        white  short_sleeve        brown   \n",
       "9          pink       casual        white  short_sleeve   blue_jeans   \n",
       "\n",
       "  pants_type Wash_Item  \n",
       "3      short   clothes  \n",
       "5       long   clothes  \n",
       "6       long   clothes  \n",
       "7       long   clothes  \n",
       "9      short       NaN  "
      ]
     },
     "metadata": {},
     "output_type": "display_data"
    }
   ],
   "source": [
    "tempdf = df\n",
    "null_columns=tempdf.columns[tempdf.isnull().any()]\n",
    "display(tempdf[null_columns].isnull().sum())\n",
    "\n",
    "display(len(tempdf.groupby('No')))\n",
    "display(tempdf[tempdf.isnull().any(axis=1)][null_columns].info())\n",
    "display(tempdf[tempdf.isnull().any(axis=1)][null_columns].head())"
   ]
  },
  {
   "cell_type": "markdown",
   "metadata": {
    "id": "LykeaT04BSmZ"
   },
   "source": [
    "\n",
    "#### Removing null values."
   ]
  },
  {
   "cell_type": "code",
   "execution_count": 403,
   "metadata": {
    "id": "HgEO2uRl-5pb"
   },
   "outputs": [],
   "source": [
    "df = df.dropna()"
   ]
  },
  {
   "cell_type": "code",
   "execution_count": 404,
   "metadata": {
    "colab": {
     "base_uri": "https://localhost:8080/"
    },
    "id": "kZI_rtSU_fjx",
    "outputId": "1d64e39e-a6f2-4dc9-d4cb-0200149d5508"
   },
   "outputs": [
    {
     "name": "stdout",
     "output_type": "stream",
     "text": [
      "<class 'pandas.core.frame.DataFrame'>\n",
      "Int64Index: 642 entries, 0 to 806\n",
      "Data columns (total 20 columns):\n",
      " #   Column         Non-Null Count  Dtype  \n",
      "---  ------         --------------  -----  \n",
      " 0   No             642 non-null    int64  \n",
      " 1   Date           642 non-null    object \n",
      " 2   Time           642 non-null    object \n",
      " 3   Race           642 non-null    object \n",
      " 4   Gender         642 non-null    object \n",
      " 5   Body_Size      642 non-null    object \n",
      " 6   Age_Range      642 non-null    float64\n",
      " 7   With_Kids      642 non-null    object \n",
      " 8   Kids_Category  642 non-null    object \n",
      " 9   Basket_Size    642 non-null    object \n",
      " 10  Basket_colour  642 non-null    object \n",
      " 11  Attire         642 non-null    object \n",
      " 12  Shirt_Colour   642 non-null    object \n",
      " 13  shirt_type     642 non-null    object \n",
      " 14  Pants_Colour   642 non-null    object \n",
      " 15  pants_type     642 non-null    object \n",
      " 16  Wash_Item      642 non-null    object \n",
      " 17  Washer_No      642 non-null    int64  \n",
      " 18  Dryer_No       642 non-null    int64  \n",
      " 19  Spectacles     642 non-null    object \n",
      "dtypes: float64(1), int64(3), object(16)\n",
      "memory usage: 105.3+ KB\n"
     ]
    }
   ],
   "source": [
    "df.info()"
   ]
  },
  {
   "cell_type": "code",
   "execution_count": 405,
   "metadata": {
    "colab": {
     "base_uri": "https://localhost:8080/"
    },
    "id": "m9OhFWak_a56",
    "outputId": "a297b3bb-9d7c-433f-c3e1-4292fb68007f"
   },
   "outputs": [
    {
     "data": {
      "text/plain": [
       "No               0\n",
       "Date             0\n",
       "Time             0\n",
       "Race             0\n",
       "Gender           0\n",
       "Body_Size        0\n",
       "Age_Range        0\n",
       "With_Kids        0\n",
       "Kids_Category    0\n",
       "Basket_Size      0\n",
       "Basket_colour    0\n",
       "Attire           0\n",
       "Shirt_Colour     0\n",
       "shirt_type       0\n",
       "Pants_Colour     0\n",
       "pants_type       0\n",
       "Wash_Item        0\n",
       "Washer_No        0\n",
       "Dryer_No         0\n",
       "Spectacles       0\n",
       "dtype: int64"
      ]
     },
     "execution_count": 405,
     "metadata": {},
     "output_type": "execute_result"
    }
   ],
   "source": [
    "df.isnull().sum()"
   ]
  },
  {
   "cell_type": "markdown",
   "metadata": {
    "id": "-DTibX6gbOot"
   },
   "source": [
    "Which age groups frequent the laundry the most?"
   ]
  },
  {
   "cell_type": "code",
   "execution_count": 406,
   "metadata": {
    "colab": {
     "base_uri": "https://localhost:8080/",
     "height": 302
    },
    "id": "g76tir1JbDye",
    "outputId": "91a2c011-c68a-4891-f428-585e3d26e71a"
   },
   "outputs": [
    {
     "data": {
      "text/plain": [
       "<AxesSubplot:xlabel='Age_Range', ylabel='Count'>"
      ]
     },
     "execution_count": 406,
     "metadata": {},
     "output_type": "execute_result"
    },
    {
     "data": {
      "image/png": "[encoded data removed]",
      "text/plain": [
       "<Figure size 432x288 with 1 Axes>"
      ]
     },
     "metadata": {},
     "output_type": "display_data"
    }
   ],
   "source": [
    "analysis = df.copy()\n",
    "\n",
    "bins = [20,30,40,50,60]\n",
    "\n",
    "sns.histplot(data=analysis, x=\"Age_Range\", bins = bins)"
   ]
  },
  {
   "cell_type": "markdown",
   "metadata": {
    "id": "JAJo2Wzucp_a"
   },
   "source": [
    "Which race frequently goes for the laundry the most?"
   ]
  },
  {
   "cell_type": "code",
   "execution_count": 407,
   "metadata": {
    "colab": {
     "base_uri": "https://localhost:8080/",
     "height": 285
    },
    "id": "jP2VkV0ZchW1",
    "outputId": "0b50a9a7-503c-4c6a-f73d-8987216f9ed0"
   },
   "outputs": [
    {
     "data": {
      "text/plain": [
       "<AxesSubplot:ylabel='Race'>"
      ]
     },
     "execution_count": 407,
     "metadata": {},
     "output_type": "execute_result"
    },
    {
     "data": {
      "image/png": "[encoded data removed]",
      "text/plain": [
       "<Figure size 432x288 with 1 Axes>"
      ]
     },
     "metadata": {},
     "output_type": "display_data"
    }
   ],
   "source": [
    "df[\"Race\"].value_counts().plot(kind=\"barh\",xlabel = \"Race\")"
   ]
  },
  {
   "cell_type": "markdown",
   "metadata": {
    "id": "_RMl4rGksR8L"
   },
   "source": [
    "are there any particularly popular washer-dryer combinations?"
   ]
  },
  {
   "cell_type": "code",
   "execution_count": 408,
   "metadata": {
    "colab": {
     "base_uri": "https://localhost:8080/",
     "height": 204
    },
    "id": "Bkedu6FVa4Jn",
    "outputId": "4f1262dc-4fe0-47f9-f24a-f113acdec4c8"
   },
   "outputs": [
    {
     "data": {
      "text/html": [
       "<div>\n",
       "<style scoped>\n",
       "    .dataframe tbody tr th:only-of-type {\n",
       "        vertical-align: middle;\n",
       "    }\n",
       "\n",
       "    .dataframe tbody tr th {\n",
       "        vertical-align: top;\n",
       "    }\n",
       "\n",
       "    .dataframe thead th {\n",
       "        text-align: right;\n",
       "    }\n",
       "</style>\n",
       "<table border=\"1\" class=\"dataframe\">\n",
       "  <thead>\n",
       "    <tr style=\"text-align: right;\">\n",
       "      <th></th>\n",
       "      <th>Washer_No</th>\n",
       "      <th>Dryer_No</th>\n",
       "      <th>count</th>\n",
       "      <th>Washer_Dryer_combo</th>\n",
       "    </tr>\n",
       "  </thead>\n",
       "  <tbody>\n",
       "    <tr>\n",
       "      <th>0</th>\n",
       "      <td>3</td>\n",
       "      <td>7</td>\n",
       "      <td>72</td>\n",
       "      <td>[3, 7]</td>\n",
       "    </tr>\n",
       "    <tr>\n",
       "      <th>1</th>\n",
       "      <td>6</td>\n",
       "      <td>10</td>\n",
       "      <td>57</td>\n",
       "      <td>[6, 10]</td>\n",
       "    </tr>\n",
       "    <tr>\n",
       "      <th>2</th>\n",
       "      <td>4</td>\n",
       "      <td>8</td>\n",
       "      <td>46</td>\n",
       "      <td>[4, 8]</td>\n",
       "    </tr>\n",
       "    <tr>\n",
       "      <th>3</th>\n",
       "      <td>5</td>\n",
       "      <td>9</td>\n",
       "      <td>45</td>\n",
       "      <td>[5, 9]</td>\n",
       "    </tr>\n",
       "    <tr>\n",
       "      <th>4</th>\n",
       "      <td>5</td>\n",
       "      <td>7</td>\n",
       "      <td>44</td>\n",
       "      <td>[5, 7]</td>\n",
       "    </tr>\n",
       "  </tbody>\n",
       "</table>\n",
       "</div>"
      ],
      "text/plain": [
       "   Washer_No  Dryer_No  count Washer_Dryer_combo\n",
       "0          3         7     72             [3, 7]\n",
       "1          6        10     57            [6, 10]\n",
       "2          4         8     46             [4, 8]\n",
       "3          5         9     45             [5, 9]\n",
       "4          5         7     44             [5, 7]"
      ]
     },
     "metadata": {},
     "output_type": "display_data"
    }
   ],
   "source": [
    "df1=df.groupby(['Washer_No','Dryer_No']).size().reset_index().rename(columns={0:'count'})\n",
    "df1['Washer_Dryer_combo'] = '['+df1['Washer_No'].astype(str) + ', ' + df1['Dryer_No'].astype(str)+']'\n",
    "\n",
    "df1 = df1.sort_values('count', ascending = False).reset_index(drop=True)\n",
    "display(df1.head())"
   ]
  },
  {
   "cell_type": "code",
   "execution_count": 409,
   "metadata": {
    "colab": {
     "base_uri": "https://localhost:8080/",
     "height": 302
    },
    "id": "yz24ADBUvyMk",
    "outputId": "f2a92355-c8c8-4533-9c98-d948de0d3bc0"
   },
   "outputs": [
    {
     "data": {
      "text/plain": [
       "<AxesSubplot:xlabel='Washer_Dryer_combo', ylabel='count'>"
      ]
     },
     "execution_count": 409,
     "metadata": {},
     "output_type": "execute_result"
    },
    {
     "data": {
      "image/png": "[encoded data removed]",
      "text/plain": [
       "<Figure size 432x288 with 1 Axes>"
      ]
     },
     "metadata": {},
     "output_type": "display_data"
    }
   ],
   "source": [
    "sns.barplot(x = 'Washer_Dryer_combo', y = 'count', data = df1.head())"
   ]
  },
  {
   "cell_type": "markdown",
   "metadata": {
    "id": "XGZAzXoZwp-I"
   },
   "source": [
    "what kind of customers are using washer 3 and dryer 7?"
   ]
  },
  {
   "cell_type": "code",
   "execution_count": 410,
   "metadata": {
    "colab": {
     "base_uri": "https://localhost:8080/",
     "height": 331
    },
    "id": "25_gFKdFws7e",
    "outputId": "878e4957-bf96-4728-b9d9-12855238f17a"
   },
   "outputs": [
    {
     "name": "stderr",
     "output_type": "stream",
     "text": [
      "<ipython-input-410-7152a04d1a73>:5: UserWarning: Boolean Series key will be reindexed to match DataFrame index.\n",
      "  df2 = df2[popdry].drop('No',1).reset_index(drop=True)\n"
     ]
    },
    {
     "data": {
      "text/html": [
       "<div>\n",
       "<style scoped>\n",
       "    .dataframe tbody tr th:only-of-type {\n",
       "        vertical-align: middle;\n",
       "    }\n",
       "\n",
       "    .dataframe tbody tr th {\n",
       "        vertical-align: top;\n",
       "    }\n",
       "\n",
       "    .dataframe thead th {\n",
       "        text-align: right;\n",
       "    }\n",
       "</style>\n",
       "<table border=\"1\" class=\"dataframe\">\n",
       "  <thead>\n",
       "    <tr style=\"text-align: right;\">\n",
       "      <th></th>\n",
       "      <th>Race</th>\n",
       "      <th>Gender</th>\n",
       "      <th>count</th>\n",
       "    </tr>\n",
       "  </thead>\n",
       "  <tbody>\n",
       "    <tr>\n",
       "      <th>0</th>\n",
       "      <td>chinese</td>\n",
       "      <td>female</td>\n",
       "      <td>7</td>\n",
       "    </tr>\n",
       "    <tr>\n",
       "      <th>1</th>\n",
       "      <td>chinese</td>\n",
       "      <td>male</td>\n",
       "      <td>7</td>\n",
       "    </tr>\n",
       "    <tr>\n",
       "      <th>2</th>\n",
       "      <td>foreigner</td>\n",
       "      <td>female</td>\n",
       "      <td>3</td>\n",
       "    </tr>\n",
       "    <tr>\n",
       "      <th>3</th>\n",
       "      <td>foreigner</td>\n",
       "      <td>male</td>\n",
       "      <td>6</td>\n",
       "    </tr>\n",
       "    <tr>\n",
       "      <th>4</th>\n",
       "      <td>indian</td>\n",
       "      <td>female</td>\n",
       "      <td>12</td>\n",
       "    </tr>\n",
       "    <tr>\n",
       "      <th>5</th>\n",
       "      <td>indian</td>\n",
       "      <td>male</td>\n",
       "      <td>11</td>\n",
       "    </tr>\n",
       "    <tr>\n",
       "      <th>6</th>\n",
       "      <td>malay</td>\n",
       "      <td>female</td>\n",
       "      <td>15</td>\n",
       "    </tr>\n",
       "    <tr>\n",
       "      <th>7</th>\n",
       "      <td>malay</td>\n",
       "      <td>male</td>\n",
       "      <td>11</td>\n",
       "    </tr>\n",
       "  </tbody>\n",
       "</table>\n",
       "</div>"
      ],
      "text/plain": [
       "         Race  Gender  count\n",
       "0     chinese  female      7\n",
       "1     chinese    male      7\n",
       "2  foreigner   female      3\n",
       "3  foreigner     male      6\n",
       "4      indian  female     12\n",
       "5      indian    male     11\n",
       "6       malay  female     15\n",
       "7       malay    male     11"
      ]
     },
     "metadata": {},
     "output_type": "display_data"
    }
   ],
   "source": [
    "popwash = df['Washer_No']==3\n",
    "popdry = df['Dryer_No']==7\n",
    "df2col = ['Race','Gender','Body_Size','Age_Range','Wash_Item','Basket_Size']\n",
    "df2 = df[popwash]\n",
    "df2 = df2[popdry].drop('No',1).reset_index(drop=True)\n",
    "df2 = df2[df2col]\n",
    "df2 = df2.groupby(['Race','Gender']).size().reset_index().rename(columns={0:'count'})\n",
    "display(df2)"
   ]
  },
  {
   "cell_type": "code",
   "execution_count": 411,
   "metadata": {
    "colab": {
     "base_uri": "https://localhost:8080/",
     "height": 382
    },
    "id": "yLms2MJTyzPE",
    "outputId": "11ed92ec-fc06-43c7-b905-b4cb24a4bad9"
   },
   "outputs": [
    {
     "data": {
      "text/plain": [
       "<seaborn.axisgrid.FacetGrid at 0x292c38714c0>"
      ]
     },
     "execution_count": 411,
     "metadata": {},
     "output_type": "execute_result"
    },
    {
     "data": {
      "image/png": "[encoded data removed]",
      "text/plain": [
       "<Figure size 432.85x360 with 1 Axes>"
      ]
     },
     "metadata": {},
     "output_type": "display_data"
    }
   ],
   "source": [
    "sns.catplot(x = 'Race', y = 'count', hue = 'Gender', data = df2, kind='bar', ci = None)"
   ]
  },
  {
   "cell_type": "markdown",
   "metadata": {
    "id": "9B-J-01A4JBc"
   },
   "source": [
    "is there a relation between race and basket size?"
   ]
  },
  {
   "cell_type": "code",
   "execution_count": 412,
   "metadata": {
    "colab": {
     "base_uri": "https://localhost:8080/",
     "height": 204
    },
    "id": "YwEk6PGd4IFY",
    "outputId": "524d4152-13e5-4fec-f6f9-777fc6c5c683"
   },
   "outputs": [
    {
     "data": {
      "text/html": [
       "<div>\n",
       "<style scoped>\n",
       "    .dataframe tbody tr th:only-of-type {\n",
       "        vertical-align: middle;\n",
       "    }\n",
       "\n",
       "    .dataframe tbody tr th {\n",
       "        vertical-align: top;\n",
       "    }\n",
       "\n",
       "    .dataframe thead th {\n",
       "        text-align: right;\n",
       "    }\n",
       "</style>\n",
       "<table border=\"1\" class=\"dataframe\">\n",
       "  <thead>\n",
       "    <tr style=\"text-align: right;\">\n",
       "      <th></th>\n",
       "      <th>Basket_Size</th>\n",
       "      <th>Race</th>\n",
       "      <th>Basket_count</th>\n",
       "    </tr>\n",
       "  </thead>\n",
       "  <tbody>\n",
       "    <tr>\n",
       "      <th>2</th>\n",
       "      <td>big</td>\n",
       "      <td>indian</td>\n",
       "      <td>196</td>\n",
       "    </tr>\n",
       "    <tr>\n",
       "      <th>0</th>\n",
       "      <td>big</td>\n",
       "      <td>chinese</td>\n",
       "      <td>173</td>\n",
       "    </tr>\n",
       "    <tr>\n",
       "      <th>3</th>\n",
       "      <td>big</td>\n",
       "      <td>malay</td>\n",
       "      <td>163</td>\n",
       "    </tr>\n",
       "    <tr>\n",
       "      <th>1</th>\n",
       "      <td>big</td>\n",
       "      <td>foreigner</td>\n",
       "      <td>66</td>\n",
       "    </tr>\n",
       "    <tr>\n",
       "      <th>6</th>\n",
       "      <td>small</td>\n",
       "      <td>indian</td>\n",
       "      <td>18</td>\n",
       "    </tr>\n",
       "  </tbody>\n",
       "</table>\n",
       "</div>"
      ],
      "text/plain": [
       "  Basket_Size        Race  Basket_count\n",
       "2         big      indian           196\n",
       "0         big     chinese           173\n",
       "3         big       malay           163\n",
       "1         big  foreigner             66\n",
       "6       small      indian            18"
      ]
     },
     "metadata": {},
     "output_type": "display_data"
    }
   ],
   "source": [
    "df3=df.groupby(['Basket_Size','Race']).size().reset_index().rename(columns={0:'Basket_count'}).sort_values('Basket_count', ascending=False)\n",
    "display(df3.head())"
   ]
  },
  {
   "cell_type": "code",
   "execution_count": 413,
   "metadata": {
    "colab": {
     "base_uri": "https://localhost:8080/",
     "height": 285
    },
    "id": "NRxK_LkM5jQs",
    "outputId": "7b19a720-1a5f-453b-8b36-763d13c8c572"
   },
   "outputs": [
    {
     "data": {
      "image/png": "[encoded data removed]",
      "text/plain": [
       "<Figure size 432x288 with 1 Axes>"
      ]
     },
     "metadata": {},
     "output_type": "display_data"
    }
   ],
   "source": [
    "df3bar = sns.barplot(x = 'Race', y = 'Basket_count', data=df3[df3['Basket_Size']=='big'], ci=None)"
   ]
  },
  {
   "cell_type": "markdown",
   "metadata": {
    "id": "DoYKnM7JbEhg"
   },
   "source": []
  },
  {
   "cell_type": "code",
   "execution_count": 414,
   "metadata": {
    "colab": {
     "base_uri": "https://localhost:8080/"
    },
    "id": "6Ig0rFhPNn5d",
    "outputId": "41076fc3-44ab-47f2-81e9-079b1e17d0ac"
   },
   "outputs": [
    {
     "name": "stdout",
     "output_type": "stream",
     "text": [
      "Requirement already satisfied: boruta in c:\\users\\syazwan\\anaconda3\\lib\\site-packages (0.3)\n",
      "Requirement already satisfied: scikit-learn>=0.17.1 in c:\\users\\syazwan\\anaconda3\\lib\\site-packages (from boruta) (0.24.1)\n",
      "Requirement already satisfied: numpy>=1.10.4 in c:\\users\\syazwan\\anaconda3\\lib\\site-packages (from boruta) (1.20.1)\n",
      "Requirement already satisfied: scipy>=0.17.0 in c:\\users\\syazwan\\anaconda3\\lib\\site-packages (from boruta) (1.6.2)\n",
      "Requirement already satisfied: threadpoolctl>=2.0.0 in c:\\users\\syazwan\\anaconda3\\lib\\site-packages (from scikit-learn>=0.17.1->boruta) (2.1.0)\n",
      "Requirement already satisfied: joblib>=0.11 in c:\\users\\syazwan\\anaconda3\\lib\\site-packages (from scikit-learn>=0.17.1->boruta) (1.0.1)\n",
      "Note: you may need to restart the kernel to use updated packages.\n"
     ]
    }
   ],
   "source": [
    "pip install boruta"
   ]
  },
  {
   "cell_type": "code",
   "execution_count": 415,
   "metadata": {
    "id": "9mJTvg2IND4C"
   },
   "outputs": [],
   "source": [
    "from sklearn.ensemble import RandomForestClassifier\n",
    "from boruta import BorutaPy\n",
    "from sklearn.preprocessing import MinMaxScaler\n",
    "from sklearn.preprocessing import LabelEncoder\n",
    "from sklearn.model_selection import train_test_split"
   ]
  },
  {
   "cell_type": "code",
   "execution_count": 416,
   "metadata": {
    "id": "R_cRD7oUOMkF"
   },
   "outputs": [],
   "source": [
    "def ranking(ranks, names, order=1):\n",
    "    minmax = MinMaxScaler()\n",
    "    ranks = minmax.fit_transform(order*np.array([ranks]).T).T[0]\n",
    "    ranks = map(lambda x: round(x,2), ranks)\n",
    "    return dict(zip(names, ranks))"
   ]
  },
  {
   "cell_type": "code",
   "execution_count": 417,
   "metadata": {
    "colab": {
     "base_uri": "https://localhost:8080/",
     "height": 439
    },
    "id": "N2TP_V-yHdWO",
    "outputId": "51881e1c-1659-4003-a2e9-7b15bfe74222"
   },
   "outputs": [
    {
     "data": {
      "text/html": [
       "<div>\n",
       "<style scoped>\n",
       "    .dataframe tbody tr th:only-of-type {\n",
       "        vertical-align: middle;\n",
       "    }\n",
       "\n",
       "    .dataframe tbody tr th {\n",
       "        vertical-align: top;\n",
       "    }\n",
       "\n",
       "    .dataframe thead th {\n",
       "        text-align: right;\n",
       "    }\n",
       "</style>\n",
       "<table border=\"1\" class=\"dataframe\">\n",
       "  <thead>\n",
       "    <tr style=\"text-align: right;\">\n",
       "      <th></th>\n",
       "      <th>Gender</th>\n",
       "      <th>Body_Size</th>\n",
       "      <th>Age_Range</th>\n",
       "      <th>With_Kids</th>\n",
       "      <th>Kids_Category</th>\n",
       "      <th>Basket_Size</th>\n",
       "      <th>Basket_colour</th>\n",
       "      <th>Shirt_Colour</th>\n",
       "      <th>shirt_type</th>\n",
       "      <th>Pants_Colour</th>\n",
       "      <th>...</th>\n",
       "      <th>Spectacles</th>\n",
       "      <th>Race_chinese</th>\n",
       "      <th>Race_foreigner</th>\n",
       "      <th>Race_indian</th>\n",
       "      <th>Race_malay</th>\n",
       "      <th>Attire_casual</th>\n",
       "      <th>Attire_formal</th>\n",
       "      <th>Attire_traditional</th>\n",
       "      <th>Wash_Item_blankets</th>\n",
       "      <th>Wash_Item_clothes</th>\n",
       "    </tr>\n",
       "  </thead>\n",
       "  <tbody>\n",
       "    <tr>\n",
       "      <th>0</th>\n",
       "      <td>1</td>\n",
       "      <td>1</td>\n",
       "      <td>28.0</td>\n",
       "      <td>1</td>\n",
       "      <td>4</td>\n",
       "      <td>0</td>\n",
       "      <td>8</td>\n",
       "      <td>2</td>\n",
       "      <td>1</td>\n",
       "      <td>0</td>\n",
       "      <td>...</td>\n",
       "      <td>0</td>\n",
       "      <td>0</td>\n",
       "      <td>0</td>\n",
       "      <td>0</td>\n",
       "      <td>1</td>\n",
       "      <td>1</td>\n",
       "      <td>0</td>\n",
       "      <td>0</td>\n",
       "      <td>0</td>\n",
       "      <td>1</td>\n",
       "    </tr>\n",
       "    <tr>\n",
       "      <th>1</th>\n",
       "      <td>1</td>\n",
       "      <td>2</td>\n",
       "      <td>32.0</td>\n",
       "      <td>0</td>\n",
       "      <td>1</td>\n",
       "      <td>0</td>\n",
       "      <td>3</td>\n",
       "      <td>10</td>\n",
       "      <td>1</td>\n",
       "      <td>4</td>\n",
       "      <td>...</td>\n",
       "      <td>0</td>\n",
       "      <td>0</td>\n",
       "      <td>0</td>\n",
       "      <td>1</td>\n",
       "      <td>0</td>\n",
       "      <td>1</td>\n",
       "      <td>0</td>\n",
       "      <td>0</td>\n",
       "      <td>0</td>\n",
       "      <td>1</td>\n",
       "    </tr>\n",
       "    <tr>\n",
       "      <th>2</th>\n",
       "      <td>0</td>\n",
       "      <td>1</td>\n",
       "      <td>30.0</td>\n",
       "      <td>0</td>\n",
       "      <td>1</td>\n",
       "      <td>0</td>\n",
       "      <td>1</td>\n",
       "      <td>9</td>\n",
       "      <td>1</td>\n",
       "      <td>0</td>\n",
       "      <td>...</td>\n",
       "      <td>0</td>\n",
       "      <td>0</td>\n",
       "      <td>0</td>\n",
       "      <td>0</td>\n",
       "      <td>1</td>\n",
       "      <td>1</td>\n",
       "      <td>0</td>\n",
       "      <td>0</td>\n",
       "      <td>0</td>\n",
       "      <td>1</td>\n",
       "    </tr>\n",
       "    <tr>\n",
       "      <th>4</th>\n",
       "      <td>1</td>\n",
       "      <td>1</td>\n",
       "      <td>34.0</td>\n",
       "      <td>0</td>\n",
       "      <td>1</td>\n",
       "      <td>0</td>\n",
       "      <td>1</td>\n",
       "      <td>2</td>\n",
       "      <td>1</td>\n",
       "      <td>12</td>\n",
       "      <td>...</td>\n",
       "      <td>0</td>\n",
       "      <td>0</td>\n",
       "      <td>0</td>\n",
       "      <td>1</td>\n",
       "      <td>0</td>\n",
       "      <td>1</td>\n",
       "      <td>0</td>\n",
       "      <td>0</td>\n",
       "      <td>0</td>\n",
       "      <td>1</td>\n",
       "    </tr>\n",
       "    <tr>\n",
       "      <th>8</th>\n",
       "      <td>1</td>\n",
       "      <td>2</td>\n",
       "      <td>30.0</td>\n",
       "      <td>0</td>\n",
       "      <td>1</td>\n",
       "      <td>1</td>\n",
       "      <td>7</td>\n",
       "      <td>10</td>\n",
       "      <td>1</td>\n",
       "      <td>0</td>\n",
       "      <td>...</td>\n",
       "      <td>0</td>\n",
       "      <td>0</td>\n",
       "      <td>0</td>\n",
       "      <td>1</td>\n",
       "      <td>0</td>\n",
       "      <td>1</td>\n",
       "      <td>0</td>\n",
       "      <td>0</td>\n",
       "      <td>0</td>\n",
       "      <td>1</td>\n",
       "    </tr>\n",
       "    <tr>\n",
       "      <th>...</th>\n",
       "      <td>...</td>\n",
       "      <td>...</td>\n",
       "      <td>...</td>\n",
       "      <td>...</td>\n",
       "      <td>...</td>\n",
       "      <td>...</td>\n",
       "      <td>...</td>\n",
       "      <td>...</td>\n",
       "      <td>...</td>\n",
       "      <td>...</td>\n",
       "      <td>...</td>\n",
       "      <td>...</td>\n",
       "      <td>...</td>\n",
       "      <td>...</td>\n",
       "      <td>...</td>\n",
       "      <td>...</td>\n",
       "      <td>...</td>\n",
       "      <td>...</td>\n",
       "      <td>...</td>\n",
       "      <td>...</td>\n",
       "      <td>...</td>\n",
       "    </tr>\n",
       "    <tr>\n",
       "      <th>802</th>\n",
       "      <td>0</td>\n",
       "      <td>1</td>\n",
       "      <td>45.0</td>\n",
       "      <td>0</td>\n",
       "      <td>1</td>\n",
       "      <td>1</td>\n",
       "      <td>9</td>\n",
       "      <td>9</td>\n",
       "      <td>0</td>\n",
       "      <td>0</td>\n",
       "      <td>...</td>\n",
       "      <td>0</td>\n",
       "      <td>0</td>\n",
       "      <td>0</td>\n",
       "      <td>0</td>\n",
       "      <td>1</td>\n",
       "      <td>1</td>\n",
       "      <td>0</td>\n",
       "      <td>0</td>\n",
       "      <td>0</td>\n",
       "      <td>1</td>\n",
       "    </tr>\n",
       "    <tr>\n",
       "      <th>803</th>\n",
       "      <td>1</td>\n",
       "      <td>0</td>\n",
       "      <td>34.0</td>\n",
       "      <td>0</td>\n",
       "      <td>1</td>\n",
       "      <td>0</td>\n",
       "      <td>4</td>\n",
       "      <td>10</td>\n",
       "      <td>1</td>\n",
       "      <td>0</td>\n",
       "      <td>...</td>\n",
       "      <td>0</td>\n",
       "      <td>0</td>\n",
       "      <td>0</td>\n",
       "      <td>0</td>\n",
       "      <td>1</td>\n",
       "      <td>1</td>\n",
       "      <td>0</td>\n",
       "      <td>0</td>\n",
       "      <td>1</td>\n",
       "      <td>0</td>\n",
       "    </tr>\n",
       "    <tr>\n",
       "      <th>804</th>\n",
       "      <td>0</td>\n",
       "      <td>1</td>\n",
       "      <td>53.0</td>\n",
       "      <td>0</td>\n",
       "      <td>1</td>\n",
       "      <td>0</td>\n",
       "      <td>7</td>\n",
       "      <td>7</td>\n",
       "      <td>0</td>\n",
       "      <td>9</td>\n",
       "      <td>...</td>\n",
       "      <td>1</td>\n",
       "      <td>0</td>\n",
       "      <td>0</td>\n",
       "      <td>0</td>\n",
       "      <td>1</td>\n",
       "      <td>0</td>\n",
       "      <td>0</td>\n",
       "      <td>1</td>\n",
       "      <td>0</td>\n",
       "      <td>1</td>\n",
       "    </tr>\n",
       "    <tr>\n",
       "      <th>805</th>\n",
       "      <td>0</td>\n",
       "      <td>1</td>\n",
       "      <td>37.0</td>\n",
       "      <td>0</td>\n",
       "      <td>1</td>\n",
       "      <td>0</td>\n",
       "      <td>3</td>\n",
       "      <td>3</td>\n",
       "      <td>1</td>\n",
       "      <td>0</td>\n",
       "      <td>...</td>\n",
       "      <td>0</td>\n",
       "      <td>0</td>\n",
       "      <td>0</td>\n",
       "      <td>1</td>\n",
       "      <td>0</td>\n",
       "      <td>0</td>\n",
       "      <td>0</td>\n",
       "      <td>1</td>\n",
       "      <td>0</td>\n",
       "      <td>1</td>\n",
       "    </tr>\n",
       "    <tr>\n",
       "      <th>806</th>\n",
       "      <td>1</td>\n",
       "      <td>1</td>\n",
       "      <td>29.0</td>\n",
       "      <td>0</td>\n",
       "      <td>1</td>\n",
       "      <td>0</td>\n",
       "      <td>1</td>\n",
       "      <td>10</td>\n",
       "      <td>1</td>\n",
       "      <td>0</td>\n",
       "      <td>...</td>\n",
       "      <td>0</td>\n",
       "      <td>0</td>\n",
       "      <td>0</td>\n",
       "      <td>0</td>\n",
       "      <td>1</td>\n",
       "      <td>1</td>\n",
       "      <td>0</td>\n",
       "      <td>0</td>\n",
       "      <td>1</td>\n",
       "      <td>0</td>\n",
       "    </tr>\n",
       "  </tbody>\n",
       "</table>\n",
       "<p>642 rows × 23 columns</p>\n",
       "</div>"
      ],
      "text/plain": [
       "     Gender  Body_Size  Age_Range  With_Kids  Kids_Category  Basket_Size  \\\n",
       "0         1          1       28.0          1              4            0   \n",
       "1         1          2       32.0          0              1            0   \n",
       "2         0          1       30.0          0              1            0   \n",
       "4         1          1       34.0          0              1            0   \n",
       "8         1          2       30.0          0              1            1   \n",
       "..      ...        ...        ...        ...            ...          ...   \n",
       "802       0          1       45.0          0              1            1   \n",
       "803       1          0       34.0          0              1            0   \n",
       "804       0          1       53.0          0              1            0   \n",
       "805       0          1       37.0          0              1            0   \n",
       "806       1          1       29.0          0              1            0   \n",
       "\n",
       "     Basket_colour  Shirt_Colour  shirt_type  Pants_Colour  ...  Spectacles  \\\n",
       "0                8             2           1             0  ...           0   \n",
       "1                3            10           1             4  ...           0   \n",
       "2                1             9           1             0  ...           0   \n",
       "4                1             2           1            12  ...           0   \n",
       "8                7            10           1             0  ...           0   \n",
       "..             ...           ...         ...           ...  ...         ...   \n",
       "802              9             9           0             0  ...           0   \n",
       "803              4            10           1             0  ...           0   \n",
       "804              7             7           0             9  ...           1   \n",
       "805              3             3           1             0  ...           0   \n",
       "806              1            10           1             0  ...           0   \n",
       "\n",
       "     Race_chinese  Race_foreigner   Race_indian  Race_malay  Attire_casual  \\\n",
       "0               0                0            0           1              1   \n",
       "1               0                0            1           0              1   \n",
       "2               0                0            0           1              1   \n",
       "4               0                0            1           0              1   \n",
       "8               0                0            1           0              1   \n",
       "..            ...              ...          ...         ...            ...   \n",
       "802             0                0            0           1              1   \n",
       "803             0                0            0           1              1   \n",
       "804             0                0            0           1              0   \n",
       "805             0                0            1           0              0   \n",
       "806             0                0            0           1              1   \n",
       "\n",
       "     Attire_formal  Attire_traditional  Wash_Item_blankets  Wash_Item_clothes  \n",
       "0                0                   0                   0                  1  \n",
       "1                0                   0                   0                  1  \n",
       "2                0                   0                   0                  1  \n",
       "4                0                   0                   0                  1  \n",
       "8                0                   0                   0                  1  \n",
       "..             ...                 ...                 ...                ...  \n",
       "802              0                   0                   0                  1  \n",
       "803              0                   0                   1                  0  \n",
       "804              0                   1                   0                  1  \n",
       "805              0                   1                   0                  1  \n",
       "806              0                   0                   1                  0  \n",
       "\n",
       "[642 rows x 23 columns]"
      ]
     },
     "metadata": {},
     "output_type": "display_data"
    }
   ],
   "source": [
    "df_GD = df.copy()\n",
    "df_GD = df_GD.drop([\"No\", \"Date\", \"Time\"],1)\n",
    "objList = df_GD.select_dtypes(include = \"object\").columns\n",
    "leList = ['Gender','With_Kids','Basket_Size','shirt_type','pants_type','Spectacles','Body_Size', \"Kids_Category\",\"Basket_colour\",\"Shirt_Colour\",\"Pants_Colour\"]\n",
    "ohList = []\n",
    "for x in objList:\n",
    "  if x not in leList:\n",
    "    ohList.append(x)\n",
    "\n",
    "for x in leList:\n",
    "    df_GD[x] = LabelEncoder().fit_transform(df_GD[x].astype(str))\n",
    "\n",
    "for x in ohList:\n",
    "    obj_list = 'x'+'_'+x\n",
    "    obj_list = pd.get_dummies(df_GD[x],prefix=x)\n",
    "    df_GD1=df_GD.join(obj_list)\n",
    "    df_GD=df_GD1\n",
    "    \n",
    "df_obj=df_GD.columns.values.tolist()\n",
    "to_keep=[i for i in df_obj if i not in ohList]\n",
    "df_GD = df_GD[to_keep]\n",
    "display(df_GD)"
   ]
  },
  {
   "cell_type": "code",
   "execution_count": 418,
   "metadata": {
    "id": "07socxz8smNh"
   },
   "outputs": [],
   "source": [
    "df_GD.to_csv(\"dfEncoded.csv\")"
   ]
  },
  {
   "cell_type": "code",
   "execution_count": 419,
   "metadata": {
    "colab": {
     "base_uri": "https://localhost:8080/",
     "height": 224
    },
    "id": "G6T67_jhN9-D",
    "outputId": "5acd7d13-830d-4515-904b-1b60a53a7e20"
   },
   "outputs": [
    {
     "data": {
      "text/html": [
       "<div>\n",
       "<style scoped>\n",
       "    .dataframe tbody tr th:only-of-type {\n",
       "        vertical-align: middle;\n",
       "    }\n",
       "\n",
       "    .dataframe tbody tr th {\n",
       "        vertical-align: top;\n",
       "    }\n",
       "\n",
       "    .dataframe thead th {\n",
       "        text-align: right;\n",
       "    }\n",
       "</style>\n",
       "<table border=\"1\" class=\"dataframe\">\n",
       "  <thead>\n",
       "    <tr style=\"text-align: right;\">\n",
       "      <th></th>\n",
       "      <th>Gender</th>\n",
       "      <th>Body_Size</th>\n",
       "      <th>Age_Range</th>\n",
       "      <th>With_Kids</th>\n",
       "      <th>Kids_Category</th>\n",
       "      <th>Basket_Size</th>\n",
       "      <th>Basket_colour</th>\n",
       "      <th>Shirt_Colour</th>\n",
       "      <th>shirt_type</th>\n",
       "      <th>Pants_Colour</th>\n",
       "      <th>...</th>\n",
       "      <th>Washer_No</th>\n",
       "      <th>Dryer_No</th>\n",
       "      <th>Spectacles</th>\n",
       "      <th>Race_chinese</th>\n",
       "      <th>Race_foreigner</th>\n",
       "      <th>Race_indian</th>\n",
       "      <th>Race_malay</th>\n",
       "      <th>Attire_casual</th>\n",
       "      <th>Attire_formal</th>\n",
       "      <th>Attire_traditional</th>\n",
       "    </tr>\n",
       "  </thead>\n",
       "  <tbody>\n",
       "    <tr>\n",
       "      <th>0</th>\n",
       "      <td>1</td>\n",
       "      <td>1</td>\n",
       "      <td>28.0</td>\n",
       "      <td>1</td>\n",
       "      <td>4</td>\n",
       "      <td>0</td>\n",
       "      <td>8</td>\n",
       "      <td>2</td>\n",
       "      <td>1</td>\n",
       "      <td>0</td>\n",
       "      <td>...</td>\n",
       "      <td>3</td>\n",
       "      <td>10</td>\n",
       "      <td>0</td>\n",
       "      <td>0</td>\n",
       "      <td>0</td>\n",
       "      <td>0</td>\n",
       "      <td>1</td>\n",
       "      <td>1</td>\n",
       "      <td>0</td>\n",
       "      <td>0</td>\n",
       "    </tr>\n",
       "    <tr>\n",
       "      <th>1</th>\n",
       "      <td>1</td>\n",
       "      <td>2</td>\n",
       "      <td>32.0</td>\n",
       "      <td>0</td>\n",
       "      <td>1</td>\n",
       "      <td>0</td>\n",
       "      <td>3</td>\n",
       "      <td>10</td>\n",
       "      <td>1</td>\n",
       "      <td>4</td>\n",
       "      <td>...</td>\n",
       "      <td>6</td>\n",
       "      <td>9</td>\n",
       "      <td>0</td>\n",
       "      <td>0</td>\n",
       "      <td>0</td>\n",
       "      <td>1</td>\n",
       "      <td>0</td>\n",
       "      <td>1</td>\n",
       "      <td>0</td>\n",
       "      <td>0</td>\n",
       "    </tr>\n",
       "    <tr>\n",
       "      <th>2</th>\n",
       "      <td>0</td>\n",
       "      <td>1</td>\n",
       "      <td>30.0</td>\n",
       "      <td>0</td>\n",
       "      <td>1</td>\n",
       "      <td>0</td>\n",
       "      <td>1</td>\n",
       "      <td>9</td>\n",
       "      <td>1</td>\n",
       "      <td>0</td>\n",
       "      <td>...</td>\n",
       "      <td>4</td>\n",
       "      <td>10</td>\n",
       "      <td>0</td>\n",
       "      <td>0</td>\n",
       "      <td>0</td>\n",
       "      <td>0</td>\n",
       "      <td>1</td>\n",
       "      <td>1</td>\n",
       "      <td>0</td>\n",
       "      <td>0</td>\n",
       "    </tr>\n",
       "    <tr>\n",
       "      <th>4</th>\n",
       "      <td>1</td>\n",
       "      <td>1</td>\n",
       "      <td>34.0</td>\n",
       "      <td>0</td>\n",
       "      <td>1</td>\n",
       "      <td>0</td>\n",
       "      <td>1</td>\n",
       "      <td>2</td>\n",
       "      <td>1</td>\n",
       "      <td>12</td>\n",
       "      <td>...</td>\n",
       "      <td>3</td>\n",
       "      <td>9</td>\n",
       "      <td>0</td>\n",
       "      <td>0</td>\n",
       "      <td>0</td>\n",
       "      <td>1</td>\n",
       "      <td>0</td>\n",
       "      <td>1</td>\n",
       "      <td>0</td>\n",
       "      <td>0</td>\n",
       "    </tr>\n",
       "    <tr>\n",
       "      <th>8</th>\n",
       "      <td>1</td>\n",
       "      <td>2</td>\n",
       "      <td>30.0</td>\n",
       "      <td>0</td>\n",
       "      <td>1</td>\n",
       "      <td>1</td>\n",
       "      <td>7</td>\n",
       "      <td>10</td>\n",
       "      <td>1</td>\n",
       "      <td>0</td>\n",
       "      <td>...</td>\n",
       "      <td>6</td>\n",
       "      <td>10</td>\n",
       "      <td>0</td>\n",
       "      <td>0</td>\n",
       "      <td>0</td>\n",
       "      <td>1</td>\n",
       "      <td>0</td>\n",
       "      <td>1</td>\n",
       "      <td>0</td>\n",
       "      <td>0</td>\n",
       "    </tr>\n",
       "  </tbody>\n",
       "</table>\n",
       "<p>5 rows × 21 columns</p>\n",
       "</div>"
      ],
      "text/plain": [
       "   Gender  Body_Size  Age_Range  With_Kids  Kids_Category  Basket_Size  \\\n",
       "0       1          1       28.0          1              4            0   \n",
       "1       1          2       32.0          0              1            0   \n",
       "2       0          1       30.0          0              1            0   \n",
       "4       1          1       34.0          0              1            0   \n",
       "8       1          2       30.0          0              1            1   \n",
       "\n",
       "   Basket_colour  Shirt_Colour  shirt_type  Pants_Colour  ...  Washer_No  \\\n",
       "0              8             2           1             0  ...          3   \n",
       "1              3            10           1             4  ...          6   \n",
       "2              1             9           1             0  ...          4   \n",
       "4              1             2           1            12  ...          3   \n",
       "8              7            10           1             0  ...          6   \n",
       "\n",
       "   Dryer_No  Spectacles  Race_chinese  Race_foreigner   Race_indian  \\\n",
       "0        10           0             0                0            0   \n",
       "1         9           0             0                0            1   \n",
       "2        10           0             0                0            0   \n",
       "4         9           0             0                0            1   \n",
       "8        10           0             0                0            1   \n",
       "\n",
       "   Race_malay  Attire_casual  Attire_formal  Attire_traditional  \n",
       "0           1              1              0                   0  \n",
       "1           0              1              0                   0  \n",
       "2           1              1              0                   0  \n",
       "4           0              1              0                   0  \n",
       "8           0              1              0                   0  \n",
       "\n",
       "[5 rows x 21 columns]"
      ]
     },
     "execution_count": 419,
     "metadata": {},
     "output_type": "execute_result"
    }
   ],
   "source": [
    "y = df_GD.loc[:, df_GD.columns == 'Wash_Item_clothes']\n",
    "X = df_GD.drop([\"Wash_Item_blankets\",\"Wash_Item_clothes\"], 1)\n",
    "colnames = X.columns\n",
    "X.head()"
   ]
  },
  {
   "cell_type": "code",
   "execution_count": 420,
   "metadata": {
    "colab": {
     "base_uri": "https://localhost:8080/",
     "height": 419
    },
    "id": "ts-ceFpHPoSJ",
    "outputId": "acc0d93a-be52-46f4-d416-546483812708"
   },
   "outputs": [
    {
     "data": {
      "text/html": [
       "<div>\n",
       "<style scoped>\n",
       "    .dataframe tbody tr th:only-of-type {\n",
       "        vertical-align: middle;\n",
       "    }\n",
       "\n",
       "    .dataframe tbody tr th {\n",
       "        vertical-align: top;\n",
       "    }\n",
       "\n",
       "    .dataframe thead th {\n",
       "        text-align: right;\n",
       "    }\n",
       "</style>\n",
       "<table border=\"1\" class=\"dataframe\">\n",
       "  <thead>\n",
       "    <tr style=\"text-align: right;\">\n",
       "      <th></th>\n",
       "      <th>Wash_Item_clothes</th>\n",
       "    </tr>\n",
       "  </thead>\n",
       "  <tbody>\n",
       "    <tr>\n",
       "      <th>0</th>\n",
       "      <td>1</td>\n",
       "    </tr>\n",
       "    <tr>\n",
       "      <th>1</th>\n",
       "      <td>1</td>\n",
       "    </tr>\n",
       "    <tr>\n",
       "      <th>2</th>\n",
       "      <td>1</td>\n",
       "    </tr>\n",
       "    <tr>\n",
       "      <th>4</th>\n",
       "      <td>1</td>\n",
       "    </tr>\n",
       "    <tr>\n",
       "      <th>8</th>\n",
       "      <td>1</td>\n",
       "    </tr>\n",
       "    <tr>\n",
       "      <th>...</th>\n",
       "      <td>...</td>\n",
       "    </tr>\n",
       "    <tr>\n",
       "      <th>802</th>\n",
       "      <td>1</td>\n",
       "    </tr>\n",
       "    <tr>\n",
       "      <th>803</th>\n",
       "      <td>0</td>\n",
       "    </tr>\n",
       "    <tr>\n",
       "      <th>804</th>\n",
       "      <td>1</td>\n",
       "    </tr>\n",
       "    <tr>\n",
       "      <th>805</th>\n",
       "      <td>1</td>\n",
       "    </tr>\n",
       "    <tr>\n",
       "      <th>806</th>\n",
       "      <td>0</td>\n",
       "    </tr>\n",
       "  </tbody>\n",
       "</table>\n",
       "<p>642 rows × 1 columns</p>\n",
       "</div>"
      ],
      "text/plain": [
       "     Wash_Item_clothes\n",
       "0                    1\n",
       "1                    1\n",
       "2                    1\n",
       "4                    1\n",
       "8                    1\n",
       "..                 ...\n",
       "802                  1\n",
       "803                  0\n",
       "804                  1\n",
       "805                  1\n",
       "806                  0\n",
       "\n",
       "[642 rows x 1 columns]"
      ]
     },
     "execution_count": 420,
     "metadata": {},
     "output_type": "execute_result"
    }
   ],
   "source": [
    "y"
   ]
  },
  {
   "cell_type": "markdown",
   "metadata": {
    "id": "TQh_LP4OD-66"
   },
   "source": [
    "####oversampling"
   ]
  },
  {
   "cell_type": "code",
   "execution_count": 421,
   "metadata": {
    "id": "yFqcT5Ic-r1a"
   },
   "outputs": [],
   "source": [
    "from imblearn.over_sampling import SMOTE"
   ]
  },
  {
   "cell_type": "code",
   "execution_count": 422,
   "metadata": {
    "colab": {
     "base_uri": "https://localhost:8080/"
    },
    "id": "yQ2rnoa4S8j4",
    "outputId": "5c525b3a-807d-4be1-f28e-b596fc4a90ae"
   },
   "outputs": [
    {
     "name": "stdout",
     "output_type": "stream",
     "text": [
      "number of bankets in ovesampled data  127\n",
      "number of clothes  515\n",
      "proportion of blankets in oversampled data is  0.19781931464174454\n",
      "proportion of clothes data in oversampled data is  0.8021806853582555\n"
     ]
    }
   ],
   "source": [
    "print('number of bankets in ovesampled data ',len(y[y['Wash_Item_clothes']==0]))\n",
    "print('number of clothes ',len(y[y['Wash_Item_clothes']==1]))\n",
    "print('proportion of blankets in oversampled data is ',len(y[y['Wash_Item_clothes']==0])/len(X))\n",
    "print('proportion of clothes data in oversampled data is ',len(y[y['Wash_Item_clothes']==1])/len(X))"
   ]
  },
  {
   "cell_type": "code",
   "execution_count": 423,
   "metadata": {
    "colab": {
     "base_uri": "https://localhost:8080/"
    },
    "id": "Hl1zAc3rAYxo",
    "outputId": "99f12c46-4f25-4f82-8f63-974ae39ce272"
   },
   "outputs": [
    {
     "name": "stdout",
     "output_type": "stream",
     "text": [
      "length of oversampled data is  724\n",
      "number of bankets in ovesampled data  362\n",
      "number of clothes  362\n",
      "proportion of blankets in oversampled data is  0.5\n",
      "proportion of clothes data in oversampled data is  0.5\n"
     ]
    }
   ],
   "source": [
    "os = SMOTE(random_state=0)\n",
    "X_train, X_test, y_train, y_test = train_test_split(X,y.values.ravel(), test_size=0.3, random_state=0)\n",
    "columns = X_train.columns\n",
    "os_data_X, os_data_y = os.fit_resample(X_train,y_train)\n",
    "os_data_X = pd.DataFrame(data=os_data_X,columns=columns)\n",
    "os_data_y = pd.DataFrame(data=os_data_y,columns=['Wash_Item_clothes'])\n",
    "\n",
    "\n",
    "print('length of oversampled data is ',len(os_data_X))\n",
    "print('number of bankets in ovesampled data ',len(os_data_y[os_data_y['Wash_Item_clothes']==0]))\n",
    "print('number of clothes ',len(os_data_y[os_data_y['Wash_Item_clothes']==1]))\n",
    "print('proportion of blankets in oversampled data is ',len(os_data_y[os_data_y['Wash_Item_clothes']==0])/len(os_data_X))\n",
    "print('proportion of clothes data in oversampled data is ',len(os_data_y[os_data_y['Wash_Item_clothes']==1])/len(os_data_X))"
   ]
  },
  {
   "cell_type": "code",
   "execution_count": 424,
   "metadata": {
    "id": "6Nhc-_Eg2ngw"
   },
   "outputs": [],
   "source": [
    "os_data_X.to_csv(\"os_data_X.csv\")\n",
    "os_data_y.to_csv(\"os_data_y.csv\")"
   ]
  },
  {
   "cell_type": "markdown",
   "metadata": {
    "id": "wcQg1ab8r_Sp"
   },
   "source": [
    "####Feature Selection"
   ]
  },
  {
   "cell_type": "code",
   "execution_count": 425,
   "metadata": {
    "colab": {
     "base_uri": "https://localhost:8080/"
    },
    "id": "yaT-xU_uQDeq",
    "outputId": "705b77b4-dac3-46b6-e157-a42bdd22dca4"
   },
   "outputs": [
    {
     "data": {
      "text/plain": [
       "BorutaPy(estimator=RandomForestClassifier(class_weight='balanced', max_depth=5,\n",
       "                                          n_estimators=101, n_jobs=-1,\n",
       "                                          random_state=RandomState(MT19937) at 0x292C59FC940),\n",
       "         n_estimators='auto',\n",
       "         random_state=RandomState(MT19937) at 0x292C59FC940)"
      ]
     },
     "execution_count": 425,
     "metadata": {},
     "output_type": "execute_result"
    }
   ],
   "source": [
    "rf = RandomForestClassifier(n_jobs=-1, class_weight='balanced', max_depth = 5)\n",
    "\n",
    "feat_selector = BorutaPy(rf, n_estimators='auto', random_state=1)\n",
    "feat_selector.fit(os_data_X.values, os_data_y.values.ravel())"
   ]
  },
  {
   "cell_type": "code",
   "execution_count": 426,
   "metadata": {
    "colab": {
     "base_uri": "https://localhost:8080/",
     "height": 425
    },
    "id": "TprElFf3QKZY",
    "outputId": "78efa48c-7d13-47f5-a5c4-9300ede8e717"
   },
   "outputs": [
    {
     "name": "stdout",
     "output_type": "stream",
     "text": [
      "---------Top 5----------\n"
     ]
    },
    {
     "data": {
      "text/html": [
       "<div>\n",
       "<style scoped>\n",
       "    .dataframe tbody tr th:only-of-type {\n",
       "        vertical-align: middle;\n",
       "    }\n",
       "\n",
       "    .dataframe tbody tr th {\n",
       "        vertical-align: top;\n",
       "    }\n",
       "\n",
       "    .dataframe thead th {\n",
       "        text-align: right;\n",
       "    }\n",
       "</style>\n",
       "<table border=\"1\" class=\"dataframe\">\n",
       "  <thead>\n",
       "    <tr style=\"text-align: right;\">\n",
       "      <th></th>\n",
       "      <th>Features</th>\n",
       "      <th>Score</th>\n",
       "    </tr>\n",
       "  </thead>\n",
       "  <tbody>\n",
       "    <tr>\n",
       "      <th>0</th>\n",
       "      <td>pants_type</td>\n",
       "      <td>1.0</td>\n",
       "    </tr>\n",
       "    <tr>\n",
       "      <th>1</th>\n",
       "      <td>Dryer_No</td>\n",
       "      <td>1.0</td>\n",
       "    </tr>\n",
       "    <tr>\n",
       "      <th>2</th>\n",
       "      <td>Age_Range</td>\n",
       "      <td>1.0</td>\n",
       "    </tr>\n",
       "    <tr>\n",
       "      <th>3</th>\n",
       "      <td>Race_malay</td>\n",
       "      <td>1.0</td>\n",
       "    </tr>\n",
       "    <tr>\n",
       "      <th>4</th>\n",
       "      <td>Kids_Category</td>\n",
       "      <td>1.0</td>\n",
       "    </tr>\n",
       "  </tbody>\n",
       "</table>\n",
       "</div>"
      ],
      "text/plain": [
       "        Features  Score\n",
       "0     pants_type    1.0\n",
       "1       Dryer_No    1.0\n",
       "2      Age_Range    1.0\n",
       "3     Race_malay    1.0\n",
       "4  Kids_Category    1.0"
      ]
     },
     "metadata": {},
     "output_type": "display_data"
    },
    {
     "name": "stdout",
     "output_type": "stream",
     "text": [
      "---------Bottom 5----------\n"
     ]
    },
    {
     "data": {
      "text/html": [
       "<div>\n",
       "<style scoped>\n",
       "    .dataframe tbody tr th:only-of-type {\n",
       "        vertical-align: middle;\n",
       "    }\n",
       "\n",
       "    .dataframe tbody tr th {\n",
       "        vertical-align: top;\n",
       "    }\n",
       "\n",
       "    .dataframe thead th {\n",
       "        text-align: right;\n",
       "    }\n",
       "</style>\n",
       "<table border=\"1\" class=\"dataframe\">\n",
       "  <thead>\n",
       "    <tr style=\"text-align: right;\">\n",
       "      <th></th>\n",
       "      <th>Features</th>\n",
       "      <th>Score</th>\n",
       "    </tr>\n",
       "  </thead>\n",
       "  <tbody>\n",
       "    <tr>\n",
       "      <th>16</th>\n",
       "      <td>Basket_Size</td>\n",
       "      <td>0.5</td>\n",
       "    </tr>\n",
       "    <tr>\n",
       "      <th>17</th>\n",
       "      <td>Attire_formal</td>\n",
       "      <td>0.3</td>\n",
       "    </tr>\n",
       "    <tr>\n",
       "      <th>18</th>\n",
       "      <td>shirt_type</td>\n",
       "      <td>0.2</td>\n",
       "    </tr>\n",
       "    <tr>\n",
       "      <th>19</th>\n",
       "      <td>Race_foreigner</td>\n",
       "      <td>0.2</td>\n",
       "    </tr>\n",
       "    <tr>\n",
       "      <th>20</th>\n",
       "      <td>With_Kids</td>\n",
       "      <td>0.0</td>\n",
       "    </tr>\n",
       "  </tbody>\n",
       "</table>\n",
       "</div>"
      ],
      "text/plain": [
       "           Features  Score\n",
       "16      Basket_Size    0.5\n",
       "17    Attire_formal    0.3\n",
       "18       shirt_type    0.2\n",
       "19  Race_foreigner     0.2\n",
       "20        With_Kids    0.0"
      ]
     },
     "execution_count": 426,
     "metadata": {},
     "output_type": "execute_result"
    }
   ],
   "source": [
    "boruta_score = ranking(list(map(float, feat_selector.ranking_)), colnames, order=-1)\n",
    "boruta_score = pd.DataFrame(list(boruta_score.items()), columns=['Features', 'Score'])\n",
    "boruta_score = boruta_score.sort_values('Score', ascending = False).reset_index(drop=True)\n",
    "print('---------Top 5----------')\n",
    "# your codes here...\n",
    "display(boruta_score.head(5))\n",
    "\n",
    "print('---------Bottom 5----------')\n",
    "# your codes here...\n",
    "boruta_score.tail(5)"
   ]
  },
  {
   "cell_type": "code",
   "execution_count": 427,
   "metadata": {
    "id": "INMeA-NxtS-0"
   },
   "outputs": [],
   "source": [
    "boruta_score.to_csv(\"borutaScore.csv\")"
   ]
  },
  {
   "cell_type": "code",
   "execution_count": 428,
   "metadata": {
    "colab": {
     "base_uri": "https://localhost:8080/",
     "height": 990
    },
    "id": "iznD7MNmQdm5",
    "outputId": "5e4878bb-8374-4de4-e4b0-cc773e674daf"
   },
   "outputs": [
    {
     "data": {
      "text/plain": [
       "Text(0.5, 1.0, 'Boruta all Features')"
      ]
     },
     "execution_count": 428,
     "metadata": {},
     "output_type": "execute_result"
    },
    {
     "data": {
      "image/png": "[encoded data removed]",
      "text/plain": [
       "<Figure size 1915.2x1008 with 1 Axes>"
      ]
     },
     "metadata": {},
     "output_type": "display_data"
    }
   ],
   "source": [
    "sns_boruta_plot = sns.catplot(x=\"Score\", y=\"Features\", data = boruta_score, kind = \"bar\", \n",
    "               height=14, aspect=1.9, palette='coolwarm')\n",
    "plt.title(\"Boruta all Features\")"
   ]
  },
  {
   "cell_type": "code",
   "execution_count": 429,
   "metadata": {
    "colab": {
     "base_uri": "https://localhost:8080/"
    },
    "id": "ZBTvvFnH-s-O",
    "outputId": "17bf5ac6-d3a6-48c4-db45-bbdda492c5a3"
   },
   "outputs": [],
   "source": [
    "import statsmodels.api as sm\n",
    "from sklearn.linear_model import LogisticRegression\n",
    "from sklearn import metrics"
   ]
  },
  {
   "cell_type": "code",
   "execution_count": 430,
   "metadata": {
    "id": "xpPeji8H7FEJ"
   },
   "outputs": [],
   "source": [
    "cols = boruta_score[boruta_score['Score']>0]['Features'].ravel()"
   ]
  },
  {
   "cell_type": "code",
   "execution_count": 431,
   "metadata": {
    "id": "ZBWYxFC2FU3I"
   },
   "outputs": [],
   "source": [
    "X=os_data_X[cols]\n",
    "y=os_data_y.Wash_Item_clothes"
   ]
  },
  {
   "cell_type": "code",
   "execution_count": 432,
   "metadata": {
    "colab": {
     "base_uri": "https://localhost:8080/"
    },
    "id": "90cGnDeiCbMb",
    "outputId": "81e7433c-19d3-4295-b46f-a78f2ac2cf92"
   },
   "outputs": [
    {
     "name": "stdout",
     "output_type": "stream",
     "text": [
      "Optimization terminated successfully.\n",
      "         Current function value: inf\n",
      "         Iterations 7\n",
      "                          Results: Logit\n",
      "==================================================================\n",
      "Model:                Logit              Pseudo R-squared:  inf   \n",
      "Dependent Variable:   Wash_Item_clothes  AIC:               inf   \n",
      "Date:                 2021-11-01 09:32   BIC:               inf   \n",
      "No. Observations:     724                Log-Likelihood:    -inf  \n",
      "Df Model:             19                 LL-Null:           0.0000\n",
      "Df Residuals:         704                LLR p-value:       1.0000\n",
      "Converged:            1.0000             Scale:             1.0000\n",
      "No. Iterations:       7.0000                                      \n",
      "------------------------------------------------------------------\n",
      "                    Coef.  Std.Err.    z    P>|z|   [0.025  0.975]\n",
      "------------------------------------------------------------------\n",
      "pants_type          0.7353   0.2789  2.6368 0.0084  0.1887  1.2818\n",
      "Dryer_No           -0.1184   0.0777 -1.5243 0.1274 -0.2707  0.0338\n",
      "Age_Range          -0.0640   0.0117 -5.4647 0.0000 -0.0869 -0.0410\n",
      "Race_malay          3.6861   0.4151  8.8803 0.0000  2.8725  4.4997\n",
      "Kids_Category       0.0559   0.1078  0.5185 0.6041 -0.1554  0.2672\n",
      "Race_indian         3.5394   0.4236  8.3555 0.0000  2.7092  4.3697\n",
      "Basket_colour      -0.0253   0.0304 -0.8346 0.4040 -0.0848  0.0342\n",
      "Shirt_Colour       -0.1052   0.0286 -3.6779 0.0002 -0.1613 -0.0491\n",
      "Race_chinese        3.5607   0.4384  8.1227 0.0000  2.7015  4.4199\n",
      "Pants_Colour        0.0722   0.0282  2.5610 0.0104  0.0170  0.1275\n",
      "Body_Size           0.2239   0.1363  1.6424 0.1005 -0.0433  0.4912\n",
      "Gender              0.4380   0.2213  1.9794 0.0478  0.0043  0.8716\n",
      "Washer_No          -0.1991   0.0893 -2.2285 0.0259 -0.3742 -0.0240\n",
      "Attire_casual       2.0180   0.4227  4.7737 0.0000  1.1895  2.8465\n",
      "Attire_traditional  2.6648   0.6523  4.0851 0.0000  1.3863  3.9434\n",
      "Spectacles          0.1352   0.2971  0.4552 0.6490 -0.4471  0.7175\n",
      "Basket_Size         2.5680   1.0461  2.4547 0.0141  0.5176  4.6184\n",
      "Attire_formal       1.9102   0.4949  3.8602 0.0001  0.9403  2.8801\n",
      "shirt_type         -0.4106   0.2892 -1.4200 0.1556 -0.9774  0.1562\n",
      "Race_foreigner      3.5201   0.4728  7.4458 0.0000  2.5935  4.4467\n",
      "==================================================================\n",
      "\n"
     ]
    },
    {
     "name": "stderr",
     "output_type": "stream",
     "text": [
      "C:\\Users\\Syazwan\\anaconda3\\lib\\site-packages\\statsmodels\\discrete\\discrete_model.py:1810: RuntimeWarning: overflow encountered in exp\n",
      "  return 1/(1+np.exp(-X))\n",
      "C:\\Users\\Syazwan\\anaconda3\\lib\\site-packages\\statsmodels\\discrete\\discrete_model.py:1863: RuntimeWarning: divide by zero encountered in log\n",
      "  return np.sum(np.log(self.cdf(q*np.dot(X,params))))\n",
      "C:\\Users\\Syazwan\\anaconda3\\lib\\site-packages\\statsmodels\\discrete\\discrete_model.py:1810: RuntimeWarning: overflow encountered in exp\n",
      "  return 1/(1+np.exp(-X))\n",
      "C:\\Users\\Syazwan\\anaconda3\\lib\\site-packages\\statsmodels\\discrete\\discrete_model.py:1863: RuntimeWarning: divide by zero encountered in log\n",
      "  return np.sum(np.log(self.cdf(q*np.dot(X,params))))\n",
      "C:\\Users\\Syazwan\\anaconda3\\lib\\site-packages\\statsmodels\\base\\model.py:547: HessianInversionWarning: Inverting hessian failed, no bse or cov_params available\n",
      "  warnings.warn('Inverting hessian failed, no bse or cov_params '\n",
      "C:\\Users\\Syazwan\\anaconda3\\lib\\site-packages\\statsmodels\\base\\model.py:547: HessianInversionWarning: Inverting hessian failed, no bse or cov_params available\n",
      "  warnings.warn('Inverting hessian failed, no bse or cov_params '\n"
     ]
    }
   ],
   "source": [
    "import statsmodels.api as sm\n",
    "logit_model=sm.Logit(y,X)\n",
    "result=logit_model.fit(maxiter=200)\n",
    "print(result.summary2())"
   ]
  },
  {
   "cell_type": "code",
   "execution_count": 433,
   "metadata": {
    "id": "JC8_kick_Oxi"
   },
   "outputs": [],
   "source": [
    "dropcol = ['Dryer_No','Kids_Category','Basket_colour','Body_Size','Spectacles','shirt_type']\n",
    "X1 = X.drop(dropcol,1)"
   ]
  },
  {
   "cell_type": "code",
   "execution_count": 434,
   "metadata": {
    "colab": {
     "base_uri": "https://localhost:8080/"
    },
    "id": "Ms3JFVLeBwRX",
    "outputId": "9fde4a1d-0baf-458e-8a56-d92081d0bc13"
   },
   "outputs": [
    {
     "name": "stderr",
     "output_type": "stream",
     "text": [
      "C:\\Users\\Syazwan\\anaconda3\\lib\\site-packages\\statsmodels\\discrete\\discrete_model.py:1810: RuntimeWarning: overflow encountered in exp\n",
      "  return 1/(1+np.exp(-X))\n"
     ]
    },
    {
     "name": "stdout",
     "output_type": "stream",
     "text": [
      "Optimization terminated successfully.\n",
      "         Current function value: inf\n",
      "         Iterations 7\n",
      "                          Results: Logit\n",
      "==================================================================\n",
      "Model:                Logit              Pseudo R-squared:  inf   \n",
      "Dependent Variable:   Wash_Item_clothes  AIC:               inf   \n",
      "Date:                 2021-11-01 09:32   BIC:               inf   \n",
      "No. Observations:     724                Log-Likelihood:    -inf  \n",
      "Df Model:             13                 LL-Null:           0.0000\n",
      "Df Residuals:         710                LLR p-value:       1.0000\n",
      "Converged:            1.0000             Scale:             1.0000\n",
      "No. Iterations:       7.0000                                      \n",
      "------------------------------------------------------------------\n",
      "                    Coef.  Std.Err.    z    P>|z|   [0.025  0.975]\n",
      "------------------------------------------------------------------\n",
      "pants_type          0.6603   0.2728  2.4201 0.0155  0.1255  1.1950\n",
      "Age_Range          -0.0718   0.0103 -6.9771 0.0000 -0.0919 -0.0516\n",
      "Race_malay          3.5703   0.3818  9.3515 0.0000  2.8220  4.3187\n",
      "Race_indian         3.2707   0.3772  8.6718 0.0000  2.5314  4.0099\n",
      "Shirt_Colour       -0.1239   0.0271 -4.5677 0.0000 -0.1771 -0.0707\n",
      "Race_chinese        3.4585   0.4018  8.6079 0.0000  2.6710  4.2460\n",
      "Pants_Colour        0.0646   0.0279  2.3196 0.0204  0.0100  0.1192\n",
      "Gender              0.3902   0.2114  1.8458 0.0649 -0.0241  0.8045\n",
      "Washer_No          -0.2611   0.0794 -3.2862 0.0010 -0.4168 -0.1054\n",
      "Attire_casual       1.7871   0.3655  4.8892 0.0000  1.0707  2.5036\n",
      "Attire_traditional  2.6219   0.6263  4.1867 0.0000  1.3945  3.8494\n",
      "Basket_Size         2.4966   1.0382  2.4047 0.0162  0.4617  4.5314\n",
      "Attire_formal       1.8533   0.4632  4.0011 0.0001  0.9454  2.7611\n",
      "Race_foreigner      3.2924   0.4376  7.5243 0.0000  2.4348  4.1501\n",
      "==================================================================\n",
      "\n"
     ]
    },
    {
     "name": "stderr",
     "output_type": "stream",
     "text": [
      "C:\\Users\\Syazwan\\anaconda3\\lib\\site-packages\\statsmodels\\discrete\\discrete_model.py:1863: RuntimeWarning: divide by zero encountered in log\n",
      "  return np.sum(np.log(self.cdf(q*np.dot(X,params))))\n",
      "C:\\Users\\Syazwan\\anaconda3\\lib\\site-packages\\statsmodels\\discrete\\discrete_model.py:1810: RuntimeWarning: overflow encountered in exp\n",
      "  return 1/(1+np.exp(-X))\n",
      "C:\\Users\\Syazwan\\anaconda3\\lib\\site-packages\\statsmodels\\discrete\\discrete_model.py:1863: RuntimeWarning: divide by zero encountered in log\n",
      "  return np.sum(np.log(self.cdf(q*np.dot(X,params))))\n",
      "C:\\Users\\Syazwan\\anaconda3\\lib\\site-packages\\statsmodels\\base\\model.py:547: HessianInversionWarning: Inverting hessian failed, no bse or cov_params available\n",
      "  warnings.warn('Inverting hessian failed, no bse or cov_params '\n",
      "C:\\Users\\Syazwan\\anaconda3\\lib\\site-packages\\statsmodels\\base\\model.py:547: HessianInversionWarning: Inverting hessian failed, no bse or cov_params available\n",
      "  warnings.warn('Inverting hessian failed, no bse or cov_params '\n"
     ]
    }
   ],
   "source": [
    "logit_model=sm.Logit(y,X1)\n",
    "result=logit_model.fit(maxiter=200)\n",
    "print(result.summary2())"
   ]
  },
  {
   "cell_type": "markdown",
   "metadata": {
    "id": "bZRFDfDXD1dq"
   },
   "source": [
    "####logistic regression"
   ]
  },
  {
   "cell_type": "markdown",
   "metadata": {
    "id": "xfF8vNyhbor_"
   },
   "source": [
    "With less features"
   ]
  },
  {
   "cell_type": "code",
   "execution_count": 435,
   "metadata": {
    "colab": {
     "base_uri": "https://localhost:8080/"
    },
    "id": "6foWVv7UFyW6",
    "outputId": "7006503b-8aff-4967-a28a-f0b927581a2a"
   },
   "outputs": [
    {
     "name": "stderr",
     "output_type": "stream",
     "text": [
      "C:\\Users\\Syazwan\\anaconda3\\lib\\site-packages\\sklearn\\linear_model\\_logistic.py:763: ConvergenceWarning: lbfgs failed to converge (status=1):\n",
      "STOP: TOTAL NO. of ITERATIONS REACHED LIMIT.\n",
      "\n",
      "Increase the number of iterations (max_iter) or scale the data as shown in:\n",
      "    https://scikit-learn.org/stable/modules/preprocessing.html\n",
      "Please also refer to the documentation for alternative solver options:\n",
      "    https://scikit-learn.org/stable/modules/linear_model.html#logistic-regression\n",
      "  n_iter_i = _check_optimize_result(\n"
     ]
    },
    {
     "data": {
      "text/plain": [
       "LogisticRegression(max_iter=200)"
      ]
     },
     "execution_count": 435,
     "metadata": {},
     "output_type": "execute_result"
    }
   ],
   "source": [
    "from sklearn.linear_model import LogisticRegression\n",
    "from sklearn import metrics\n",
    "\n",
    "X_train,X_test,y_train,y_test=train_test_split(X1,y.values.ravel(),test_size=0.2,random_state=0)\n",
    "logreg = LogisticRegression(solver='lbfgs',max_iter=200)\n",
    "logreg.fit(X_train,y_train)"
   ]
  },
  {
   "cell_type": "code",
   "execution_count": 436,
   "metadata": {
    "colab": {
     "base_uri": "https://localhost:8080/"
    },
    "id": "-OkzCdXGF3kL",
    "outputId": "2edcadb3-a02e-4d15-9b16-9e5a5fd003b3"
   },
   "outputs": [
    {
     "name": "stdout",
     "output_type": "stream",
     "text": [
      "Accuracy of logistic regression classifier on test set: 0.85\n"
     ]
    }
   ],
   "source": [
    "y_pred = logreg.predict(X_test)\n",
    "print('Accuracy of logistic regression classifier on test set: {:.2f}'.format(logreg.score(X_test, y_test)))"
   ]
  },
  {
   "cell_type": "code",
   "execution_count": 437,
   "metadata": {},
   "outputs": [],
   "source": [
    "import pickle\n",
    "pickle_out = open('logreg.pkl','wb')\n",
    "pickle.dump(logreg, pickle_out) \n",
    "pickle_out.close()"
   ]
  },
  {
   "cell_type": "code",
   "execution_count": 438,
   "metadata": {
    "colab": {
     "base_uri": "https://localhost:8080/"
    },
    "id": "2KSSSqrWF-lY",
    "outputId": "d38156bc-d2bc-47fb-e753-892b395ed650"
   },
   "outputs": [
    {
     "name": "stdout",
     "output_type": "stream",
     "text": [
      "[[56 16]\n",
      " [ 6 67]]\n"
     ]
    }
   ],
   "source": [
    "from sklearn.metrics import confusion_matrix\n",
    "\n",
    "confusion_matrix = confusion_matrix(y_test,y_pred)\n",
    "print(confusion_matrix)"
   ]
  },
  {
   "cell_type": "code",
   "execution_count": 439,
   "metadata": {
    "colab": {
     "base_uri": "https://localhost:8080/"
    },
    "id": "o54nVlFOGAy3",
    "outputId": "c6996415-5d82-45ad-9f03-17c847fd0bde"
   },
   "outputs": [
    {
     "name": "stdout",
     "output_type": "stream",
     "text": [
      "              precision    recall  f1-score   support\n",
      "\n",
      "           0       0.90      0.78      0.84        72\n",
      "           1       0.81      0.92      0.86        73\n",
      "\n",
      "    accuracy                           0.85       145\n",
      "   macro avg       0.86      0.85      0.85       145\n",
      "weighted avg       0.85      0.85      0.85       145\n",
      "\n"
     ]
    }
   ],
   "source": [
    "from sklearn.metrics import classification_report\n",
    "print(classification_report(y_test, y_pred))"
   ]
  },
  {
   "cell_type": "code",
   "execution_count": 440,
   "metadata": {
    "colab": {
     "base_uri": "https://localhost:8080/",
     "height": 301
    },
    "id": "jub-JYDLGE3z",
    "outputId": "f30829a0-b645-4eea-afd2-a6b4aaa0eeef"
   },
   "outputs": [
    {
     "data": {
      "image/png": "[encoded data removed]",
      "text/plain": [
       "<Figure size 432x288 with 1 Axes>"
      ]
     },
     "metadata": {},
     "output_type": "display_data"
    }
   ],
   "source": [
    "from sklearn.metrics import roc_auc_score\n",
    "from sklearn.metrics import roc_curve\n",
    "logit_roc_auc = roc_auc_score(y_test, logreg.predict(X_test))\n",
    "fpr, tpr, thresholds = roc_curve(y_test, logreg.predict_proba(X_test)[:,1])\n",
    "plt.figure()\n",
    "plt.plot(fpr, tpr, label='Logistic Regression (area = %0.2f)' % logit_roc_auc)\n",
    "plt.plot([0, 1], [0, 1],'r--')\n",
    "plt.xlim([0.0, 1.0])\n",
    "plt.ylim([0.0, 1.05])\n",
    "plt.xlabel('False Positive Rate')\n",
    "plt.ylabel('True Positive Rate')\n",
    "plt.title('Receiver operating characteristic')\n",
    "plt.legend(loc=\"lower right\") \n",
    "plt.show()"
   ]
  },
  {
   "cell_type": "markdown",
   "metadata": {
    "id": "oA5lHn0CFPcC"
   },
   "source": [
    "with more features"
   ]
  },
  {
   "cell_type": "code",
   "execution_count": 441,
   "metadata": {
    "id": "VtP-zV7Mb8LL"
   },
   "outputs": [],
   "source": [
    "X2 = X"
   ]
  },
  {
   "cell_type": "code",
   "execution_count": 442,
   "metadata": {
    "colab": {
     "base_uri": "https://localhost:8080/"
    },
    "id": "c3IeC0Ybb7D5",
    "outputId": "00097f5f-639d-437c-96cf-629b125a6ed6"
   },
   "outputs": [
    {
     "name": "stderr",
     "output_type": "stream",
     "text": [
      "C:\\Users\\Syazwan\\anaconda3\\lib\\site-packages\\sklearn\\linear_model\\_logistic.py:763: ConvergenceWarning: lbfgs failed to converge (status=1):\n",
      "STOP: TOTAL NO. of ITERATIONS REACHED LIMIT.\n",
      "\n",
      "Increase the number of iterations (max_iter) or scale the data as shown in:\n",
      "    https://scikit-learn.org/stable/modules/preprocessing.html\n",
      "Please also refer to the documentation for alternative solver options:\n",
      "    https://scikit-learn.org/stable/modules/linear_model.html#logistic-regression\n",
      "  n_iter_i = _check_optimize_result(\n"
     ]
    },
    {
     "data": {
      "text/plain": [
       "LogisticRegression(max_iter=200)"
      ]
     },
     "execution_count": 442,
     "metadata": {},
     "output_type": "execute_result"
    }
   ],
   "source": [
    "X_train,X_test,y_train,y_test=train_test_split(X2,y.values.ravel(),test_size=0.2,random_state=0)\n",
    "logreg = LogisticRegression(solver='lbfgs',max_iter=200)\n",
    "logreg.fit(X_train,y_train)"
   ]
  },
  {
   "cell_type": "code",
   "execution_count": 443,
   "metadata": {
    "colab": {
     "base_uri": "https://localhost:8080/"
    },
    "id": "1PIWKP-Ab7D5",
    "outputId": "d2a0081b-58f3-4d7d-aa72-66f6adcf2b77"
   },
   "outputs": [
    {
     "name": "stdout",
     "output_type": "stream",
     "text": [
      "Accuracy of logistic regression classifier on test set: 0.89\n"
     ]
    }
   ],
   "source": [
    "y_pred = logreg.predict(X_test)\n",
    "print('Accuracy of logistic regression classifier on test set: {:.2f}'.format(logreg.score(X_test, y_test)))"
   ]
  },
  {
   "cell_type": "code",
   "execution_count": 444,
   "metadata": {
    "colab": {
     "base_uri": "https://localhost:8080/"
    },
    "id": "fVh9iIQ0b7D5",
    "outputId": "4ca29c8c-e99b-4e98-aa37-7a323398bf0b"
   },
   "outputs": [
    {
     "name": "stdout",
     "output_type": "stream",
     "text": [
      "[[61 11]\n",
      " [ 5 68]]\n"
     ]
    }
   ],
   "source": [
    "from sklearn.metrics import confusion_matrix\n",
    "\n",
    "confusion_matrix = confusion_matrix(y_test,y_pred)\n",
    "print(confusion_matrix)"
   ]
  },
  {
   "cell_type": "code",
   "execution_count": 445,
   "metadata": {
    "colab": {
     "base_uri": "https://localhost:8080/"
    },
    "id": "P_wu76VMb7D6",
    "outputId": "9793bc57-5f3d-4899-bdc0-5da6a4860f77"
   },
   "outputs": [
    {
     "name": "stdout",
     "output_type": "stream",
     "text": [
      "              precision    recall  f1-score   support\n",
      "\n",
      "           0       0.92      0.85      0.88        72\n",
      "           1       0.86      0.93      0.89        73\n",
      "\n",
      "    accuracy                           0.89       145\n",
      "   macro avg       0.89      0.89      0.89       145\n",
      "weighted avg       0.89      0.89      0.89       145\n",
      "\n"
     ]
    }
   ],
   "source": [
    "from sklearn.metrics import classification_report\n",
    "print(classification_report(y_test, y_pred))"
   ]
  },
  {
   "cell_type": "code",
   "execution_count": 446,
   "metadata": {
    "colab": {
     "base_uri": "https://localhost:8080/",
     "height": 301
    },
    "id": "iV6nG_bfb7D6",
    "outputId": "683a28a0-fbed-4878-f9c4-5076773fd95f",
    "scrolled": true
   },
   "outputs": [
    {
     "data": {
      "image/png": "[encoded data removed]",
      "text/plain": [
       "<Figure size 432x288 with 1 Axes>"
      ]
     },
     "metadata": {},
     "output_type": "display_data"
    }
   ],
   "source": [
    "from sklearn.metrics import roc_auc_score\n",
    "from sklearn.metrics import roc_curve\n",
    "logit_roc_auc = roc_auc_score(y_test, logreg.predict(X_test))\n",
    "fpr, tpr, thresholds = roc_curve(y_test, logreg.predict_proba(X_test)[:,1])\n",
    "plt.figure()\n",
    "plt.plot(fpr, tpr, label='Logistic Regression (area = %0.2f)' % logit_roc_auc)\n",
    "plt.plot([0, 1], [0, 1],'r--')\n",
    "plt.xlim([0.0, 1.0])\n",
    "plt.ylim([0.0, 1.05])\n",
    "plt.xlabel('False Positive Rate')\n",
    "plt.ylabel('True Positive Rate')\n",
    "plt.title('Receiver operating characteristic')\n",
    "plt.legend(loc=\"lower right\") \n",
    "plt.show()"
   ]
  },
  {
   "cell_type": "markdown",
   "metadata": {
    "id": "bedWc2GTzlnd"
   },
   "source": [
    "## Using Assiociation Rule Mining to find what customers tend to use Washer No.4 and Dryer No.8"
   ]
  },
  {
   "cell_type": "code",
   "execution_count": 280,
   "metadata": {
    "colab": {
     "base_uri": "https://localhost:8080/"
    },
    "id": "u1nqS1OqsNEx",
    "outputId": "a62013d9-24f2-42d7-9796-876299d1b8e3"
   },
   "outputs": [
    {
     "name": "stdout",
     "output_type": "stream",
     "text": [
      "Requirement already satisfied: apyori in c:\\users\\syazwan\\anaconda3\\lib\\site-packages (1.1.2)\n"
     ]
    }
   ],
   "source": [
    "!pip install apyori\n",
    "from apyori import apriori"
   ]
  },
  {
   "cell_type": "code",
   "execution_count": 281,
   "metadata": {
    "id": "3pUYVLAgO5Kl"
   },
   "outputs": [],
   "source": [
    "df_arm = df.copy()"
   ]
  },
  {
   "cell_type": "code",
   "execution_count": 282,
   "metadata": {
    "id": "hKd3uHwSASHI"
   },
   "outputs": [],
   "source": [
    "#drop the rows other than washer no 4 and dryer no 8\n",
    "df_arm = df_arm[(df_arm['Washer_No'] == 4) | (df_arm['Dryer_No'] == 8)]"
   ]
  },
  {
   "cell_type": "code",
   "execution_count": 283,
   "metadata": {
    "colab": {
     "base_uri": "https://localhost:8080/",
     "height": 451
    },
    "id": "v6lJxgIFPAPh",
    "outputId": "93986ae9-4074-437d-ec4f-0244b5fee9e4"
   },
   "outputs": [
    {
     "data": {
      "text/html": [
       "<div>\n",
       "<style scoped>\n",
       "    .dataframe tbody tr th:only-of-type {\n",
       "        vertical-align: middle;\n",
       "    }\n",
       "\n",
       "    .dataframe tbody tr th {\n",
       "        vertical-align: top;\n",
       "    }\n",
       "\n",
       "    .dataframe thead th {\n",
       "        text-align: right;\n",
       "    }\n",
       "</style>\n",
       "<table border=\"1\" class=\"dataframe\">\n",
       "  <thead>\n",
       "    <tr style=\"text-align: right;\">\n",
       "      <th></th>\n",
       "      <th>Race_chinese</th>\n",
       "      <th>Race_foreigner</th>\n",
       "      <th>Race_indian</th>\n",
       "      <th>Race_malay</th>\n",
       "      <th>Gender_female</th>\n",
       "      <th>Gender_male</th>\n",
       "      <th>Body_Size_fat</th>\n",
       "      <th>Body_Size_moderate</th>\n",
       "      <th>Body_Size_thin</th>\n",
       "      <th>With_Kids_no</th>\n",
       "      <th>...</th>\n",
       "      <th>Spectacles_no</th>\n",
       "      <th>Spectacles_yes</th>\n",
       "      <th>Washer_No_3</th>\n",
       "      <th>Washer_No_4</th>\n",
       "      <th>Washer_No_5</th>\n",
       "      <th>Washer_No_6</th>\n",
       "      <th>Dryer_No_7</th>\n",
       "      <th>Dryer_No_8</th>\n",
       "      <th>Dryer_No_9</th>\n",
       "      <th>Dryer_No_10</th>\n",
       "    </tr>\n",
       "  </thead>\n",
       "  <tbody>\n",
       "    <tr>\n",
       "      <th>2</th>\n",
       "      <td>0</td>\n",
       "      <td>0</td>\n",
       "      <td>0</td>\n",
       "      <td>1</td>\n",
       "      <td>1</td>\n",
       "      <td>0</td>\n",
       "      <td>0</td>\n",
       "      <td>1</td>\n",
       "      <td>0</td>\n",
       "      <td>1</td>\n",
       "      <td>...</td>\n",
       "      <td>1</td>\n",
       "      <td>0</td>\n",
       "      <td>0</td>\n",
       "      <td>1</td>\n",
       "      <td>0</td>\n",
       "      <td>0</td>\n",
       "      <td>0</td>\n",
       "      <td>0</td>\n",
       "      <td>0</td>\n",
       "      <td>1</td>\n",
       "    </tr>\n",
       "    <tr>\n",
       "      <th>14</th>\n",
       "      <td>0</td>\n",
       "      <td>0</td>\n",
       "      <td>0</td>\n",
       "      <td>1</td>\n",
       "      <td>1</td>\n",
       "      <td>0</td>\n",
       "      <td>0</td>\n",
       "      <td>1</td>\n",
       "      <td>0</td>\n",
       "      <td>0</td>\n",
       "      <td>...</td>\n",
       "      <td>0</td>\n",
       "      <td>1</td>\n",
       "      <td>1</td>\n",
       "      <td>0</td>\n",
       "      <td>0</td>\n",
       "      <td>0</td>\n",
       "      <td>0</td>\n",
       "      <td>1</td>\n",
       "      <td>0</td>\n",
       "      <td>0</td>\n",
       "    </tr>\n",
       "    <tr>\n",
       "      <th>16</th>\n",
       "      <td>0</td>\n",
       "      <td>0</td>\n",
       "      <td>0</td>\n",
       "      <td>1</td>\n",
       "      <td>1</td>\n",
       "      <td>0</td>\n",
       "      <td>0</td>\n",
       "      <td>0</td>\n",
       "      <td>1</td>\n",
       "      <td>0</td>\n",
       "      <td>...</td>\n",
       "      <td>1</td>\n",
       "      <td>0</td>\n",
       "      <td>0</td>\n",
       "      <td>1</td>\n",
       "      <td>0</td>\n",
       "      <td>0</td>\n",
       "      <td>1</td>\n",
       "      <td>0</td>\n",
       "      <td>0</td>\n",
       "      <td>0</td>\n",
       "    </tr>\n",
       "    <tr>\n",
       "      <th>25</th>\n",
       "      <td>1</td>\n",
       "      <td>0</td>\n",
       "      <td>0</td>\n",
       "      <td>0</td>\n",
       "      <td>1</td>\n",
       "      <td>0</td>\n",
       "      <td>0</td>\n",
       "      <td>1</td>\n",
       "      <td>0</td>\n",
       "      <td>1</td>\n",
       "      <td>...</td>\n",
       "      <td>1</td>\n",
       "      <td>0</td>\n",
       "      <td>1</td>\n",
       "      <td>0</td>\n",
       "      <td>0</td>\n",
       "      <td>0</td>\n",
       "      <td>0</td>\n",
       "      <td>1</td>\n",
       "      <td>0</td>\n",
       "      <td>0</td>\n",
       "    </tr>\n",
       "    <tr>\n",
       "      <th>32</th>\n",
       "      <td>0</td>\n",
       "      <td>1</td>\n",
       "      <td>0</td>\n",
       "      <td>0</td>\n",
       "      <td>0</td>\n",
       "      <td>1</td>\n",
       "      <td>0</td>\n",
       "      <td>1</td>\n",
       "      <td>0</td>\n",
       "      <td>1</td>\n",
       "      <td>...</td>\n",
       "      <td>1</td>\n",
       "      <td>0</td>\n",
       "      <td>1</td>\n",
       "      <td>0</td>\n",
       "      <td>0</td>\n",
       "      <td>0</td>\n",
       "      <td>0</td>\n",
       "      <td>1</td>\n",
       "      <td>0</td>\n",
       "      <td>0</td>\n",
       "    </tr>\n",
       "    <tr>\n",
       "      <th>...</th>\n",
       "      <td>...</td>\n",
       "      <td>...</td>\n",
       "      <td>...</td>\n",
       "      <td>...</td>\n",
       "      <td>...</td>\n",
       "      <td>...</td>\n",
       "      <td>...</td>\n",
       "      <td>...</td>\n",
       "      <td>...</td>\n",
       "      <td>...</td>\n",
       "      <td>...</td>\n",
       "      <td>...</td>\n",
       "      <td>...</td>\n",
       "      <td>...</td>\n",
       "      <td>...</td>\n",
       "      <td>...</td>\n",
       "      <td>...</td>\n",
       "      <td>...</td>\n",
       "      <td>...</td>\n",
       "      <td>...</td>\n",
       "      <td>...</td>\n",
       "    </tr>\n",
       "    <tr>\n",
       "      <th>774</th>\n",
       "      <td>0</td>\n",
       "      <td>0</td>\n",
       "      <td>0</td>\n",
       "      <td>1</td>\n",
       "      <td>1</td>\n",
       "      <td>0</td>\n",
       "      <td>0</td>\n",
       "      <td>0</td>\n",
       "      <td>1</td>\n",
       "      <td>0</td>\n",
       "      <td>...</td>\n",
       "      <td>1</td>\n",
       "      <td>0</td>\n",
       "      <td>0</td>\n",
       "      <td>0</td>\n",
       "      <td>0</td>\n",
       "      <td>1</td>\n",
       "      <td>0</td>\n",
       "      <td>1</td>\n",
       "      <td>0</td>\n",
       "      <td>0</td>\n",
       "    </tr>\n",
       "    <tr>\n",
       "      <th>778</th>\n",
       "      <td>0</td>\n",
       "      <td>0</td>\n",
       "      <td>0</td>\n",
       "      <td>1</td>\n",
       "      <td>1</td>\n",
       "      <td>0</td>\n",
       "      <td>0</td>\n",
       "      <td>0</td>\n",
       "      <td>1</td>\n",
       "      <td>0</td>\n",
       "      <td>...</td>\n",
       "      <td>1</td>\n",
       "      <td>0</td>\n",
       "      <td>0</td>\n",
       "      <td>1</td>\n",
       "      <td>0</td>\n",
       "      <td>0</td>\n",
       "      <td>0</td>\n",
       "      <td>0</td>\n",
       "      <td>0</td>\n",
       "      <td>1</td>\n",
       "    </tr>\n",
       "    <tr>\n",
       "      <th>779</th>\n",
       "      <td>0</td>\n",
       "      <td>0</td>\n",
       "      <td>0</td>\n",
       "      <td>1</td>\n",
       "      <td>1</td>\n",
       "      <td>0</td>\n",
       "      <td>0</td>\n",
       "      <td>0</td>\n",
       "      <td>1</td>\n",
       "      <td>0</td>\n",
       "      <td>...</td>\n",
       "      <td>1</td>\n",
       "      <td>0</td>\n",
       "      <td>0</td>\n",
       "      <td>1</td>\n",
       "      <td>0</td>\n",
       "      <td>0</td>\n",
       "      <td>0</td>\n",
       "      <td>0</td>\n",
       "      <td>0</td>\n",
       "      <td>1</td>\n",
       "    </tr>\n",
       "    <tr>\n",
       "      <th>788</th>\n",
       "      <td>1</td>\n",
       "      <td>0</td>\n",
       "      <td>0</td>\n",
       "      <td>0</td>\n",
       "      <td>0</td>\n",
       "      <td>1</td>\n",
       "      <td>0</td>\n",
       "      <td>0</td>\n",
       "      <td>1</td>\n",
       "      <td>1</td>\n",
       "      <td>...</td>\n",
       "      <td>1</td>\n",
       "      <td>0</td>\n",
       "      <td>1</td>\n",
       "      <td>0</td>\n",
       "      <td>0</td>\n",
       "      <td>0</td>\n",
       "      <td>0</td>\n",
       "      <td>1</td>\n",
       "      <td>0</td>\n",
       "      <td>0</td>\n",
       "    </tr>\n",
       "    <tr>\n",
       "      <th>806</th>\n",
       "      <td>0</td>\n",
       "      <td>0</td>\n",
       "      <td>0</td>\n",
       "      <td>1</td>\n",
       "      <td>0</td>\n",
       "      <td>1</td>\n",
       "      <td>0</td>\n",
       "      <td>1</td>\n",
       "      <td>0</td>\n",
       "      <td>1</td>\n",
       "      <td>...</td>\n",
       "      <td>1</td>\n",
       "      <td>0</td>\n",
       "      <td>0</td>\n",
       "      <td>1</td>\n",
       "      <td>0</td>\n",
       "      <td>0</td>\n",
       "      <td>0</td>\n",
       "      <td>1</td>\n",
       "      <td>0</td>\n",
       "      <td>0</td>\n",
       "    </tr>\n",
       "  </tbody>\n",
       "</table>\n",
       "<p>244 rows × 72 columns</p>\n",
       "</div>"
      ],
      "text/plain": [
       "     Race_chinese  Race_foreigner   Race_indian  Race_malay  Gender_female  \\\n",
       "2               0                0            0           1              1   \n",
       "14              0                0            0           1              1   \n",
       "16              0                0            0           1              1   \n",
       "25              1                0            0           0              1   \n",
       "32              0                1            0           0              0   \n",
       "..            ...              ...          ...         ...            ...   \n",
       "774             0                0            0           1              1   \n",
       "778             0                0            0           1              1   \n",
       "779             0                0            0           1              1   \n",
       "788             1                0            0           0              0   \n",
       "806             0                0            0           1              0   \n",
       "\n",
       "     Gender_male  Body_Size_fat  Body_Size_moderate  Body_Size_thin  \\\n",
       "2              0              0                   1               0   \n",
       "14             0              0                   1               0   \n",
       "16             0              0                   0               1   \n",
       "25             0              0                   1               0   \n",
       "32             1              0                   1               0   \n",
       "..           ...            ...                 ...             ...   \n",
       "774            0              0                   0               1   \n",
       "778            0              0                   0               1   \n",
       "779            0              0                   0               1   \n",
       "788            1              0                   0               1   \n",
       "806            1              0                   1               0   \n",
       "\n",
       "     With_Kids_no  ...  Spectacles_no  Spectacles_yes  Washer_No_3  \\\n",
       "2               1  ...              1               0            0   \n",
       "14              0  ...              0               1            1   \n",
       "16              0  ...              1               0            0   \n",
       "25              1  ...              1               0            1   \n",
       "32              1  ...              1               0            1   \n",
       "..            ...  ...            ...             ...          ...   \n",
       "774             0  ...              1               0            0   \n",
       "778             0  ...              1               0            0   \n",
       "779             0  ...              1               0            0   \n",
       "788             1  ...              1               0            1   \n",
       "806             1  ...              1               0            0   \n",
       "\n",
       "     Washer_No_4  Washer_No_5  Washer_No_6  Dryer_No_7  Dryer_No_8  \\\n",
       "2              1            0            0           0           0   \n",
       "14             0            0            0           0           1   \n",
       "16             1            0            0           1           0   \n",
       "25             0            0            0           0           1   \n",
       "32             0            0            0           0           1   \n",
       "..           ...          ...          ...         ...         ...   \n",
       "774            0            0            1           0           1   \n",
       "778            1            0            0           0           0   \n",
       "779            1            0            0           0           0   \n",
       "788            0            0            0           0           1   \n",
       "806            1            0            0           0           1   \n",
       "\n",
       "     Dryer_No_9  Dryer_No_10  \n",
       "2             0            1  \n",
       "14            0            0  \n",
       "16            0            0  \n",
       "25            0            0  \n",
       "32            0            0  \n",
       "..          ...          ...  \n",
       "774           0            0  \n",
       "778           0            1  \n",
       "779           0            1  \n",
       "788           0            0  \n",
       "806           0            0  \n",
       "\n",
       "[244 rows x 72 columns]"
      ]
     },
     "execution_count": 283,
     "metadata": {},
     "output_type": "execute_result"
    }
   ],
   "source": [
    "#remove numerical data\n",
    "df_arm.drop(columns=['No', 'Date', 'Time', 'Age_Range'], axis = 1, inplace = True)\n",
    "#one-hot encoding for the categorical data\n",
    "one_hot = pd.get_dummies(data = df_arm, columns=['Race', 'Gender', 'Body_Size', 'With_Kids', 'Kids_Category', 'Basket_Size', 'Basket_colour', 'Attire', 'Shirt_Colour', 'shirt_type', 'Pants_Colour', 'pants_type', 'Wash_Item', 'Spectacles', 'Washer_No', 'Dryer_No'])\n",
    "one_hot\n"
   ]
  },
  {
   "cell_type": "code",
   "execution_count": 284,
   "metadata": {
    "colab": {
     "base_uri": "https://localhost:8080/"
    },
    "id": "Y_OGtR4SPFgp",
    "outputId": "080ae733-008b-4270-c496-79e4b8ae9a18"
   },
   "outputs": [
    {
     "data": {
      "text/plain": [
       "Index(['Race_chinese', 'Race_foreigner ', 'Race_indian', 'Race_malay',\n",
       "       'Gender_female', 'Gender_male', 'Body_Size_fat', 'Body_Size_moderate',\n",
       "       'Body_Size_thin', 'With_Kids_no', 'With_Kids_yes', 'Kids_Category_baby',\n",
       "       'Kids_Category_no_kids', 'Kids_Category_toddler',\n",
       "       'Kids_Category_toddler ', 'Kids_Category_young', 'Basket_Size_big',\n",
       "       'Basket_Size_small', 'Basket_colour_black', 'Basket_colour_blue',\n",
       "       'Basket_colour_brown', 'Basket_colour_green', 'Basket_colour_grey',\n",
       "       'Basket_colour_orange', 'Basket_colour_pink', 'Basket_colour_purple',\n",
       "       'Basket_colour_red', 'Basket_colour_white', 'Basket_colour_yellow',\n",
       "       'Attire_casual', 'Attire_formal', 'Attire_traditional',\n",
       "       'Shirt_Colour_black', 'Shirt_Colour_blue', 'Shirt_Colour_brown',\n",
       "       'Shirt_Colour_green', 'Shirt_Colour_grey', 'Shirt_Colour_orange',\n",
       "       'Shirt_Colour_pink', 'Shirt_Colour_purple', 'Shirt_Colour_red',\n",
       "       'Shirt_Colour_white', 'Shirt_Colour_yellow', 'shirt_type_long sleeve',\n",
       "       'shirt_type_short_sleeve', 'Pants_Colour_black', 'Pants_Colour_black ',\n",
       "       'Pants_Colour_blue', 'Pants_Colour_blue_jeans', 'Pants_Colour_brown',\n",
       "       'Pants_Colour_green', 'Pants_Colour_grey', 'Pants_Colour_orange',\n",
       "       'Pants_Colour_pink', 'Pants_Colour_purple', 'Pants_Colour_red',\n",
       "       'Pants_Colour_white', 'Pants_Colour_yellow', 'pants_type_long',\n",
       "       'pants_type_short', 'Wash_Item_blankets', 'Wash_Item_clothes',\n",
       "       'Spectacles_no', 'Spectacles_yes', 'Washer_No_3', 'Washer_No_4',\n",
       "       'Washer_No_5', 'Washer_No_6', 'Dryer_No_7', 'Dryer_No_8', 'Dryer_No_9',\n",
       "       'Dryer_No_10'],\n",
       "      dtype='object')"
      ]
     },
     "execution_count": 284,
     "metadata": {},
     "output_type": "execute_result"
    }
   ],
   "source": [
    "colname = one_hot.columns\n",
    "colname"
   ]
  },
  {
   "cell_type": "code",
   "execution_count": 285,
   "metadata": {
    "colab": {
     "base_uri": "https://localhost:8080/",
     "height": 272
    },
    "id": "rnTFOnYOPLW6",
    "outputId": "16bc2d9c-64c6-4508-bc19-2f36684250b2"
   },
   "outputs": [
    {
     "data": {
      "text/html": [
       "<div>\n",
       "<style scoped>\n",
       "    .dataframe tbody tr th:only-of-type {\n",
       "        vertical-align: middle;\n",
       "    }\n",
       "\n",
       "    .dataframe tbody tr th {\n",
       "        vertical-align: top;\n",
       "    }\n",
       "\n",
       "    .dataframe thead th {\n",
       "        text-align: right;\n",
       "    }\n",
       "</style>\n",
       "<table border=\"1\" class=\"dataframe\">\n",
       "  <thead>\n",
       "    <tr style=\"text-align: right;\">\n",
       "      <th></th>\n",
       "      <th>Race_chinese</th>\n",
       "      <th>Race_foreigner</th>\n",
       "      <th>Race_indian</th>\n",
       "      <th>Race_malay</th>\n",
       "      <th>Gender_female</th>\n",
       "      <th>Gender_male</th>\n",
       "      <th>Body_Size_fat</th>\n",
       "      <th>Body_Size_moderate</th>\n",
       "      <th>Body_Size_thin</th>\n",
       "      <th>With_Kids_no</th>\n",
       "      <th>...</th>\n",
       "      <th>Spectacles_no</th>\n",
       "      <th>Spectacles_yes</th>\n",
       "      <th>Washer_No_3</th>\n",
       "      <th>Washer_No_4</th>\n",
       "      <th>Washer_No_5</th>\n",
       "      <th>Washer_No_6</th>\n",
       "      <th>Dryer_No_7</th>\n",
       "      <th>Dryer_No_8</th>\n",
       "      <th>Dryer_No_9</th>\n",
       "      <th>Dryer_No_10</th>\n",
       "    </tr>\n",
       "  </thead>\n",
       "  <tbody>\n",
       "    <tr>\n",
       "      <th>2</th>\n",
       "      <td>0</td>\n",
       "      <td>0</td>\n",
       "      <td>0</td>\n",
       "      <td>Race_malay</td>\n",
       "      <td>Gender_female</td>\n",
       "      <td>0</td>\n",
       "      <td>0</td>\n",
       "      <td>Body_Size_moderate</td>\n",
       "      <td>0</td>\n",
       "      <td>With_Kids_no</td>\n",
       "      <td>...</td>\n",
       "      <td>Spectacles_no</td>\n",
       "      <td>0</td>\n",
       "      <td>0</td>\n",
       "      <td>Washer_No_4</td>\n",
       "      <td>0</td>\n",
       "      <td>0</td>\n",
       "      <td>0</td>\n",
       "      <td>0</td>\n",
       "      <td>0</td>\n",
       "      <td>Dryer_No_10</td>\n",
       "    </tr>\n",
       "    <tr>\n",
       "      <th>14</th>\n",
       "      <td>0</td>\n",
       "      <td>0</td>\n",
       "      <td>0</td>\n",
       "      <td>Race_malay</td>\n",
       "      <td>Gender_female</td>\n",
       "      <td>0</td>\n",
       "      <td>0</td>\n",
       "      <td>Body_Size_moderate</td>\n",
       "      <td>0</td>\n",
       "      <td>0</td>\n",
       "      <td>...</td>\n",
       "      <td>0</td>\n",
       "      <td>Spectacles_yes</td>\n",
       "      <td>Washer_No_3</td>\n",
       "      <td>0</td>\n",
       "      <td>0</td>\n",
       "      <td>0</td>\n",
       "      <td>0</td>\n",
       "      <td>Dryer_No_8</td>\n",
       "      <td>0</td>\n",
       "      <td>0</td>\n",
       "    </tr>\n",
       "    <tr>\n",
       "      <th>16</th>\n",
       "      <td>0</td>\n",
       "      <td>0</td>\n",
       "      <td>0</td>\n",
       "      <td>Race_malay</td>\n",
       "      <td>Gender_female</td>\n",
       "      <td>0</td>\n",
       "      <td>0</td>\n",
       "      <td>0</td>\n",
       "      <td>Body_Size_thin</td>\n",
       "      <td>0</td>\n",
       "      <td>...</td>\n",
       "      <td>Spectacles_no</td>\n",
       "      <td>0</td>\n",
       "      <td>0</td>\n",
       "      <td>Washer_No_4</td>\n",
       "      <td>0</td>\n",
       "      <td>0</td>\n",
       "      <td>Dryer_No_7</td>\n",
       "      <td>0</td>\n",
       "      <td>0</td>\n",
       "      <td>0</td>\n",
       "    </tr>\n",
       "    <tr>\n",
       "      <th>25</th>\n",
       "      <td>Race_chinese</td>\n",
       "      <td>0</td>\n",
       "      <td>0</td>\n",
       "      <td>0</td>\n",
       "      <td>Gender_female</td>\n",
       "      <td>0</td>\n",
       "      <td>0</td>\n",
       "      <td>Body_Size_moderate</td>\n",
       "      <td>0</td>\n",
       "      <td>With_Kids_no</td>\n",
       "      <td>...</td>\n",
       "      <td>Spectacles_no</td>\n",
       "      <td>0</td>\n",
       "      <td>Washer_No_3</td>\n",
       "      <td>0</td>\n",
       "      <td>0</td>\n",
       "      <td>0</td>\n",
       "      <td>0</td>\n",
       "      <td>Dryer_No_8</td>\n",
       "      <td>0</td>\n",
       "      <td>0</td>\n",
       "    </tr>\n",
       "    <tr>\n",
       "      <th>32</th>\n",
       "      <td>0</td>\n",
       "      <td>Race_foreigner</td>\n",
       "      <td>0</td>\n",
       "      <td>0</td>\n",
       "      <td>0</td>\n",
       "      <td>Gender_male</td>\n",
       "      <td>0</td>\n",
       "      <td>Body_Size_moderate</td>\n",
       "      <td>0</td>\n",
       "      <td>With_Kids_no</td>\n",
       "      <td>...</td>\n",
       "      <td>Spectacles_no</td>\n",
       "      <td>0</td>\n",
       "      <td>Washer_No_3</td>\n",
       "      <td>0</td>\n",
       "      <td>0</td>\n",
       "      <td>0</td>\n",
       "      <td>0</td>\n",
       "      <td>Dryer_No_8</td>\n",
       "      <td>0</td>\n",
       "      <td>0</td>\n",
       "    </tr>\n",
       "  </tbody>\n",
       "</table>\n",
       "<p>5 rows × 72 columns</p>\n",
       "</div>"
      ],
      "text/plain": [
       "    Race_chinese  Race_foreigner  Race_indian  Race_malay  Gender_female  \\\n",
       "2              0                0           0  Race_malay  Gender_female   \n",
       "14             0                0           0  Race_malay  Gender_female   \n",
       "16             0                0           0  Race_malay  Gender_female   \n",
       "25  Race_chinese                0           0           0  Gender_female   \n",
       "32             0  Race_foreigner            0           0              0   \n",
       "\n",
       "    Gender_male Body_Size_fat  Body_Size_moderate  Body_Size_thin  \\\n",
       "2             0             0  Body_Size_moderate               0   \n",
       "14            0             0  Body_Size_moderate               0   \n",
       "16            0             0                   0  Body_Size_thin   \n",
       "25            0             0  Body_Size_moderate               0   \n",
       "32  Gender_male             0  Body_Size_moderate               0   \n",
       "\n",
       "    With_Kids_no  ...  Spectacles_no  Spectacles_yes  Washer_No_3  \\\n",
       "2   With_Kids_no  ...  Spectacles_no               0            0   \n",
       "14             0  ...              0  Spectacles_yes  Washer_No_3   \n",
       "16             0  ...  Spectacles_no               0            0   \n",
       "25  With_Kids_no  ...  Spectacles_no               0  Washer_No_3   \n",
       "32  With_Kids_no  ...  Spectacles_no               0  Washer_No_3   \n",
       "\n",
       "    Washer_No_4 Washer_No_5 Washer_No_6  Dryer_No_7  Dryer_No_8 Dryer_No_9  \\\n",
       "2   Washer_No_4           0           0           0           0          0   \n",
       "14            0           0           0           0  Dryer_No_8          0   \n",
       "16  Washer_No_4           0           0  Dryer_No_7           0          0   \n",
       "25            0           0           0           0  Dryer_No_8          0   \n",
       "32            0           0           0           0  Dryer_No_8          0   \n",
       "\n",
       "    Dryer_No_10  \n",
       "2   Dryer_No_10  \n",
       "14            0  \n",
       "16            0  \n",
       "25            0  \n",
       "32            0  \n",
       "\n",
       "[5 rows x 72 columns]"
      ]
     },
     "execution_count": 285,
     "metadata": {},
     "output_type": "execute_result"
    }
   ],
   "source": [
    "## Replacing non-zero values with product names\n",
    "def get_colname(x):\n",
    "    for col in colname:\n",
    "        if x[col] > 0:\n",
    "            x[col] = col\n",
    "    return x\n",
    "\n",
    "one_hot = one_hot.apply(get_colname, axis=1)\n",
    "one_hot.head()"
   ]
  },
  {
   "cell_type": "code",
   "execution_count": 286,
   "metadata": {
    "colab": {
     "base_uri": "https://localhost:8080/"
    },
    "id": "LQ5iPPr1PPJI",
    "outputId": "81c763b0-348b-4081-db40-be66023b258b"
   },
   "outputs": [
    {
     "data": {
      "text/plain": [
       "[['Race_malay',\n",
       "  'Gender_female',\n",
       "  'Body_Size_moderate',\n",
       "  'With_Kids_no',\n",
       "  'Kids_Category_no_kids',\n",
       "  'Basket_Size_big',\n",
       "  'Basket_colour_blue',\n",
       "  'Attire_casual',\n",
       "  'Shirt_Colour_red',\n",
       "  'shirt_type_short_sleeve',\n",
       "  'Pants_Colour_black',\n",
       "  'pants_type_long',\n",
       "  'Wash_Item_clothes',\n",
       "  'Spectacles_no',\n",
       "  'Washer_No_4',\n",
       "  'Dryer_No_10'],\n",
       " ['Race_malay',\n",
       "  'Gender_female',\n",
       "  'Body_Size_moderate',\n",
       "  'With_Kids_yes',\n",
       "  'Kids_Category_young',\n",
       "  'Basket_Size_big',\n",
       "  'Basket_colour_red',\n",
       "  'Attire_casual',\n",
       "  'Shirt_Colour_brown',\n",
       "  'shirt_type_long sleeve',\n",
       "  'Pants_Colour_grey',\n",
       "  'pants_type_long',\n",
       "  'Wash_Item_clothes',\n",
       "  'Spectacles_yes',\n",
       "  'Washer_No_3',\n",
       "  'Dryer_No_8'],\n",
       " ['Race_malay',\n",
       "  'Gender_female',\n",
       "  'Body_Size_thin',\n",
       "  'With_Kids_yes',\n",
       "  'Kids_Category_toddler ',\n",
       "  'Basket_Size_big',\n",
       "  'Basket_colour_blue',\n",
       "  'Attire_casual',\n",
       "  'Shirt_Colour_brown',\n",
       "  'shirt_type_long sleeve',\n",
       "  'Pants_Colour_grey',\n",
       "  'pants_type_long',\n",
       "  'Wash_Item_clothes',\n",
       "  'Spectacles_no',\n",
       "  'Washer_No_4',\n",
       "  'Dryer_No_7'],\n",
       " ['Race_chinese',\n",
       "  'Gender_female',\n",
       "  'Body_Size_moderate',\n",
       "  'With_Kids_no',\n",
       "  'Kids_Category_no_kids',\n",
       "  'Basket_Size_small',\n",
       "  'Basket_colour_orange',\n",
       "  'Attire_casual',\n",
       "  'Shirt_Colour_black',\n",
       "  'shirt_type_short_sleeve',\n",
       "  'Pants_Colour_black',\n",
       "  'pants_type_long',\n",
       "  'Wash_Item_clothes',\n",
       "  'Spectacles_no',\n",
       "  'Washer_No_3',\n",
       "  'Dryer_No_8'],\n",
       " ['Race_foreigner ',\n",
       "  'Gender_male',\n",
       "  'Body_Size_moderate',\n",
       "  'With_Kids_no',\n",
       "  'Kids_Category_no_kids',\n",
       "  'Basket_Size_big',\n",
       "  'Basket_colour_blue',\n",
       "  'Attire_casual',\n",
       "  'Shirt_Colour_black',\n",
       "  'shirt_type_short_sleeve',\n",
       "  'Pants_Colour_black',\n",
       "  'pants_type_long',\n",
       "  'Wash_Item_clothes',\n",
       "  'Spectacles_no',\n",
       "  'Washer_No_3',\n",
       "  'Dryer_No_8'],\n",
       " ['Race_malay',\n",
       "  'Gender_female',\n",
       "  'Body_Size_fat',\n",
       "  'With_Kids_no',\n",
       "  'Kids_Category_no_kids',\n",
       "  'Basket_Size_big',\n",
       "  'Basket_colour_red',\n",
       "  'Attire_traditional',\n",
       "  'Shirt_Colour_green',\n",
       "  'shirt_type_long sleeve',\n",
       "  'Pants_Colour_green',\n",
       "  'pants_type_long',\n",
       "  'Wash_Item_clothes',\n",
       "  'Spectacles_yes',\n",
       "  'Washer_No_4',\n",
       "  'Dryer_No_9'],\n",
       " ['Race_malay',\n",
       "  'Gender_female',\n",
       "  'Body_Size_fat',\n",
       "  'With_Kids_no',\n",
       "  'Kids_Category_no_kids',\n",
       "  'Basket_Size_big',\n",
       "  'Basket_colour_blue',\n",
       "  'Attire_casual',\n",
       "  'Shirt_Colour_grey',\n",
       "  'shirt_type_long sleeve',\n",
       "  'Pants_Colour_black',\n",
       "  'pants_type_long',\n",
       "  'Wash_Item_blankets',\n",
       "  'Spectacles_no',\n",
       "  'Washer_No_4',\n",
       "  'Dryer_No_8'],\n",
       " ['Race_malay',\n",
       "  'Gender_female',\n",
       "  'Body_Size_moderate',\n",
       "  'With_Kids_no',\n",
       "  'Kids_Category_no_kids',\n",
       "  'Basket_Size_big',\n",
       "  'Basket_colour_black',\n",
       "  'Attire_casual',\n",
       "  'Shirt_Colour_red',\n",
       "  'shirt_type_long sleeve',\n",
       "  'Pants_Colour_red',\n",
       "  'pants_type_long',\n",
       "  'Wash_Item_clothes',\n",
       "  'Spectacles_no',\n",
       "  'Washer_No_6',\n",
       "  'Dryer_No_8'],\n",
       " ['Race_indian',\n",
       "  'Gender_male',\n",
       "  'Body_Size_moderate',\n",
       "  'With_Kids_no',\n",
       "  'Kids_Category_no_kids',\n",
       "  'Basket_Size_big',\n",
       "  'Basket_colour_red',\n",
       "  'Attire_casual',\n",
       "  'Shirt_Colour_black',\n",
       "  'shirt_type_short_sleeve',\n",
       "  'Pants_Colour_blue',\n",
       "  'pants_type_short',\n",
       "  'Wash_Item_clothes',\n",
       "  'Spectacles_no',\n",
       "  'Washer_No_4',\n",
       "  'Dryer_No_8'],\n",
       " ['Race_malay',\n",
       "  'Gender_male',\n",
       "  'Body_Size_thin',\n",
       "  'With_Kids_yes',\n",
       "  'Kids_Category_young',\n",
       "  'Basket_Size_big',\n",
       "  'Basket_colour_white',\n",
       "  'Attire_formal',\n",
       "  'Shirt_Colour_brown',\n",
       "  'shirt_type_long sleeve',\n",
       "  'Pants_Colour_blue',\n",
       "  'pants_type_long',\n",
       "  'Wash_Item_clothes',\n",
       "  'Spectacles_no',\n",
       "  'Washer_No_6',\n",
       "  'Dryer_No_8']]"
      ]
     },
     "execution_count": 286,
     "metadata": {},
     "output_type": "execute_result"
    }
   ],
   "source": [
    "#remove all zeros\n",
    "x = one_hot.values\n",
    "x = [sub[~(sub == 0)].tolist() for sub in x if sub[sub != 0].tolist()]\n",
    "arm_data = x\n",
    "arm_data[:10]#first 10"
   ]
  },
  {
   "cell_type": "code",
   "execution_count": 287,
   "metadata": {
    "id": "3s_RUeVD8yBW"
   },
   "outputs": [
    {
     "ename": "KeyboardInterrupt",
     "evalue": "",
     "output_type": "error",
     "traceback": [
      "\u001b[1;31m---------------------------------------------------------------------------\u001b[0m",
      "\u001b[1;31mKeyboardInterrupt\u001b[0m                         Traceback (most recent call last)",
      "\u001b[1;32m<ipython-input-287-6f832752c605>\u001b[0m in \u001b[0;36m<module>\u001b[1;34m\u001b[0m\n\u001b[0;32m      1\u001b[0m \u001b[0mrules\u001b[0m \u001b[1;33m=\u001b[0m \u001b[0mapriori\u001b[0m\u001b[1;33m(\u001b[0m\u001b[0marm_data\u001b[0m\u001b[1;33m,\u001b[0m \u001b[0mmin_support\u001b[0m\u001b[1;33m=\u001b[0m\u001b[1;36m0.045\u001b[0m\u001b[1;33m,\u001b[0m \u001b[0mmin_confidence\u001b[0m\u001b[1;33m=\u001b[0m\u001b[1;36m0.5\u001b[0m\u001b[1;33m,\u001b[0m \u001b[0mmin_lift\u001b[0m\u001b[1;33m=\u001b[0m\u001b[1;36m3\u001b[0m\u001b[1;33m,\u001b[0m \u001b[0mmin_length\u001b[0m\u001b[1;33m=\u001b[0m\u001b[1;36m3\u001b[0m\u001b[1;33m,\u001b[0m\u001b[0mtarget\u001b[0m\u001b[1;33m=\u001b[0m\u001b[1;34m\"rules\"\u001b[0m\u001b[1;33m)\u001b[0m\u001b[1;33m\u001b[0m\u001b[1;33m\u001b[0m\u001b[0m\n\u001b[1;32m----> 2\u001b[1;33m \u001b[0massociation_results\u001b[0m \u001b[1;33m=\u001b[0m \u001b[0mlist\u001b[0m\u001b[1;33m(\u001b[0m\u001b[0mrules\u001b[0m\u001b[1;33m)\u001b[0m\u001b[1;33m\u001b[0m\u001b[1;33m\u001b[0m\u001b[0m\n\u001b[0m",
      "\u001b[1;32m~\\anaconda3\\lib\\site-packages\\apyori.py\u001b[0m in \u001b[0;36mapriori\u001b[1;34m(transactions, **kwargs)\u001b[0m\n\u001b[0;32m    284\u001b[0m \u001b[1;33m\u001b[0m\u001b[0m\n\u001b[0;32m    285\u001b[0m     \u001b[1;31m# Calculate ordered stats.\u001b[0m\u001b[1;33m\u001b[0m\u001b[1;33m\u001b[0m\u001b[1;33m\u001b[0m\u001b[0m\n\u001b[1;32m--> 286\u001b[1;33m     \u001b[1;32mfor\u001b[0m \u001b[0msupport_record\u001b[0m \u001b[1;32min\u001b[0m \u001b[0msupport_records\u001b[0m\u001b[1;33m:\u001b[0m\u001b[1;33m\u001b[0m\u001b[1;33m\u001b[0m\u001b[0m\n\u001b[0m\u001b[0;32m    287\u001b[0m         ordered_statistics = list(\n\u001b[0;32m    288\u001b[0m             _filter_ordered_statistics(\n",
      "\u001b[1;32m~\\anaconda3\\lib\\site-packages\\apyori.py\u001b[0m in \u001b[0;36mgen_support_records\u001b[1;34m(transaction_manager, min_support, **kwargs)\u001b[0m\n\u001b[0;32m    197\u001b[0m         \u001b[1;32mif\u001b[0m \u001b[0mmax_length\u001b[0m \u001b[1;32mand\u001b[0m \u001b[0mlength\u001b[0m \u001b[1;33m>\u001b[0m \u001b[0mmax_length\u001b[0m\u001b[1;33m:\u001b[0m\u001b[1;33m\u001b[0m\u001b[1;33m\u001b[0m\u001b[0m\n\u001b[0;32m    198\u001b[0m             \u001b[1;32mbreak\u001b[0m\u001b[1;33m\u001b[0m\u001b[1;33m\u001b[0m\u001b[0m\n\u001b[1;32m--> 199\u001b[1;33m         \u001b[0mcandidates\u001b[0m \u001b[1;33m=\u001b[0m \u001b[0m_create_next_candidates\u001b[0m\u001b[1;33m(\u001b[0m\u001b[0mrelations\u001b[0m\u001b[1;33m,\u001b[0m \u001b[0mlength\u001b[0m\u001b[1;33m)\u001b[0m\u001b[1;33m\u001b[0m\u001b[1;33m\u001b[0m\u001b[0m\n\u001b[0m\u001b[0;32m    200\u001b[0m \u001b[1;33m\u001b[0m\u001b[0m\n\u001b[0;32m    201\u001b[0m \u001b[1;33m\u001b[0m\u001b[0m\n",
      "\u001b[1;32m~\\anaconda3\\lib\\site-packages\\apyori.py\u001b[0m in \u001b[0;36mcreate_next_candidates\u001b[1;34m(prev_candidates, length)\u001b[0m\n\u001b[0;32m    155\u001b[0m     \u001b[1;31m# Filter candidates that all of their subsets are\u001b[0m\u001b[1;33m\u001b[0m\u001b[1;33m\u001b[0m\u001b[1;33m\u001b[0m\u001b[0m\n\u001b[0;32m    156\u001b[0m     \u001b[1;31m# in the previous candidates.\u001b[0m\u001b[1;33m\u001b[0m\u001b[1;33m\u001b[0m\u001b[1;33m\u001b[0m\u001b[0m\n\u001b[1;32m--> 157\u001b[1;33m     next_candidates = [\n\u001b[0m\u001b[0;32m    158\u001b[0m         \u001b[0mcandidate\u001b[0m \u001b[1;32mfor\u001b[0m \u001b[0mcandidate\u001b[0m \u001b[1;32min\u001b[0m \u001b[0mtmp_next_candidates\u001b[0m\u001b[1;33m\u001b[0m\u001b[1;33m\u001b[0m\u001b[0m\n\u001b[0;32m    159\u001b[0m         if all(\n",
      "\u001b[1;32m~\\anaconda3\\lib\\site-packages\\apyori.py\u001b[0m in \u001b[0;36m<listcomp>\u001b[1;34m(.0)\u001b[0m\n\u001b[0;32m    157\u001b[0m     next_candidates = [\n\u001b[0;32m    158\u001b[0m         \u001b[0mcandidate\u001b[0m \u001b[1;32mfor\u001b[0m \u001b[0mcandidate\u001b[0m \u001b[1;32min\u001b[0m \u001b[0mtmp_next_candidates\u001b[0m\u001b[1;33m\u001b[0m\u001b[1;33m\u001b[0m\u001b[0m\n\u001b[1;32m--> 159\u001b[1;33m         if all(\n\u001b[0m\u001b[0;32m    160\u001b[0m             \u001b[0mfrozenset\u001b[0m\u001b[1;33m(\u001b[0m\u001b[0mx\u001b[0m\u001b[1;33m)\u001b[0m \u001b[1;32min\u001b[0m \u001b[0mprev_candidates\u001b[0m\u001b[1;33m\u001b[0m\u001b[1;33m\u001b[0m\u001b[0m\n\u001b[0;32m    161\u001b[0m             for x in combinations(candidate, length - 1))\n",
      "\u001b[1;31mKeyboardInterrupt\u001b[0m: "
     ]
    }
   ],
   "source": [
    "rules = apriori(arm_data, min_support=0.045, min_confidence=0.5, min_lift=3, min_length=3,target=\"rules\")\n",
    "association_results = list(rules)"
   ]
  },
  {
   "cell_type": "code",
   "execution_count": null,
   "metadata": {
    "colab": {
     "base_uri": "https://localhost:8080/"
    },
    "id": "i5EnTqkwFPDg",
    "outputId": "fe6b441b-7a41-4cee-c274-2eab5177807e"
   },
   "outputs": [],
   "source": [
    "association_results[:100]"
   ]
  },
  {
   "cell_type": "code",
   "execution_count": null,
   "metadata": {
    "id": "3WLbjcm0HvYJ"
   },
   "outputs": [],
   "source": [
    "#putting results in organised Pandas DataFrame\n",
    "def inspect(association_results):\n",
    "    lhs         = [tuple(result[2][0][0])[0] for result in association_results]\n",
    "    rhs         = [tuple(result[2][0][1])[0] for result in association_results]\n",
    "    supports    = [result[1] for result in association_results]\n",
    "    confidences = [result[2][0][2] for result in association_results]\n",
    "    lifts       = [result[2][0][3] for result in association_results]\n",
    "    return list(zip(lhs, rhs, supports, confidences, lifts))\n",
    "resultsinDataFrame = pd.DataFrame(inspect(association_results), columns = ['Left Hand Side', 'Right Hand Side', 'Support', 'Confidence', 'Lift'])"
   ]
  },
  {
   "cell_type": "code",
   "execution_count": null,
   "metadata": {
    "id": "MfvpMhmOH3i6"
   },
   "outputs": [],
   "source": [
    "#resultsinDataFrame.to_csv(\"arm_results.csv\")"
   ]
  },
  {
   "cell_type": "code",
   "execution_count": null,
   "metadata": {
    "colab": {
     "base_uri": "https://localhost:8080/"
    },
    "id": "XEzsYGhSAgM7",
    "outputId": "82d423ce-f564-47be-b9e0-03289bff168b"
   },
   "outputs": [],
   "source": [
    "for item in association_results:\n",
    "\n",
    "    pair = item[0]\n",
    "    num = len(item)\n",
    "    items = [x for x in pair]\n",
    "    if items[1] == 'Washer_No_4':\n",
    "        print(\"Rule: \" + items[0] + \" -> \" + items[1])\n",
    "\n",
    "        print(\"Support: \" + str(item[1]))\n",
    "\n",
    "        print(\"Confidence: \" + str(item[2][0][2]))\n",
    "        print(\"Lift: \" + str(item[2][0][3]))\n",
    "        print(\"=====================================\")"
   ]
  },
  {
   "cell_type": "code",
   "execution_count": null,
   "metadata": {
    "colab": {
     "base_uri": "https://localhost:8080/"
    },
    "id": "n40V3vTVz2NK",
    "outputId": "3f484da6-164d-4bfc-e3a1-269c6a77074b"
   },
   "outputs": [],
   "source": [
    "for item in association_results[:200]:\n",
    "\n",
    "    pair = item[0]\n",
    "    num = len(item)\n",
    "    items = [x for x in pair]\n",
    "    if items[1] == 'Dryer_No_8':\n",
    "        print(\"Rule: \" + items[0] + \" -> \" + items[1])\n",
    "\n",
    "        print(\"Support: \" + str(item[1]))\n",
    "\n",
    "        print(\"Confidence: \" + str(item[2][0][2]))\n",
    "        print(\"Lift: \" + str(item[2][0][3]))\n",
    "        print(\"=====================================\")"
   ]
  },
  {
   "cell_type": "markdown",
   "metadata": {
    "id": "rlsVVO5bK62R"
   },
   "source": [
    "#Clustering"
   ]
  },
  {
   "cell_type": "code",
   "execution_count": null,
   "metadata": {
    "colab": {
     "base_uri": "https://localhost:8080/"
    },
    "id": "hM_rIK-eK9nO",
    "outputId": "751f4562-d092-4041-8db5-35315a685587"
   },
   "outputs": [],
   "source": [
    "!pip install kmodes\n",
    "from kmodes.kmodes import KModes"
   ]
  },
  {
   "cell_type": "code",
   "execution_count": null,
   "metadata": {
    "id": "OZNTx6Sdruc9"
   },
   "outputs": [],
   "source": [
    "df_clus = df.copy()"
   ]
  },
  {
   "cell_type": "code",
   "execution_count": null,
   "metadata": {
    "colab": {
     "base_uri": "https://localhost:8080/"
    },
    "id": "Pq6HR2h8L_Na",
    "outputId": "ed4b3063-17ed-414d-8e90-b4b2cf2c5560"
   },
   "outputs": [],
   "source": [
    "#get min\n",
    "df_clus['Age_Range'].min()"
   ]
  },
  {
   "cell_type": "code",
   "execution_count": null,
   "metadata": {
    "colab": {
     "base_uri": "https://localhost:8080/"
    },
    "id": "29V-s-mqL_za",
    "outputId": "28da129f-1a9c-4528-a3e0-23b4b5e4c7a1"
   },
   "outputs": [],
   "source": [
    "#get_max\n",
    "df_clus['Age_Range'].max()"
   ]
  },
  {
   "cell_type": "code",
   "execution_count": null,
   "metadata": {
    "id": "iKF_A05YMCCg"
   },
   "outputs": [],
   "source": [
    "#binning age\n",
    "df_clus['Age_Bins'] = pd.cut(x=df_clus['Age_Range'], bins=[20, 29, 39, 49, 59])"
   ]
  },
  {
   "cell_type": "code",
   "execution_count": null,
   "metadata": {
    "id": "ypQ8b76Orwhi"
   },
   "outputs": [],
   "source": [
    "df_clus.drop(columns=['No', 'Date', 'Time', 'Age_Range'], inplace=True)"
   ]
  },
  {
   "cell_type": "code",
   "execution_count": null,
   "metadata": {
    "id": "tCuCW8r_GmhJ"
   },
   "outputs": [],
   "source": [
    "all_features = df_clus.columns"
   ]
  },
  {
   "cell_type": "code",
   "execution_count": null,
   "metadata": {
    "colab": {
     "base_uri": "https://localhost:8080/",
     "height": 1000
    },
    "id": "bIeiUqNzryNG",
    "outputId": "7dc32d23-c135-433b-c0cd-58eea885772b"
   },
   "outputs": [],
   "source": [
    "# Elbow curve to find optimal K\n",
    "cost = []\n",
    "K = range(1,10)\n",
    "for num_clusters in list(K):\n",
    "    kmode = KModes(n_clusters=num_clusters, init = \"random\", n_init = 5, verbose=1)\n",
    "    kmode.fit_predict(df_clus)\n",
    "    cost.append(kmode.cost_)\n",
    "    \n",
    "plt.plot(K, cost, 'bx-')\n",
    "plt.xlabel('No. of clusters')\n",
    "plt.ylabel('Cost')\n",
    "plt.title('Elbow Method For Optimal k')\n",
    "plt.show()"
   ]
  },
  {
   "cell_type": "code",
   "execution_count": null,
   "metadata": {
    "colab": {
     "base_uri": "https://localhost:8080/"
    },
    "id": "Hz9g7y_Wr0Jo",
    "outputId": "021fb313-4ef2-469f-8184-078649e8f270"
   },
   "outputs": [],
   "source": [
    "# Building the model with 5 clusters\n",
    "kmode = KModes(n_clusters=5, init = \"random\", n_init = 5, verbose=1)\n",
    "clusters = kmode.fit_predict(df_clus)\n",
    "clusters"
   ]
  },
  {
   "cell_type": "code",
   "execution_count": null,
   "metadata": {
    "id": "VHgij0fjhBAI"
   },
   "outputs": [],
   "source": [
    "#df_clus.drop('Cluster', axis=1, inplace=True)"
   ]
  },
  {
   "cell_type": "code",
   "execution_count": null,
   "metadata": {
    "colab": {
     "base_uri": "https://localhost:8080/",
     "height": 375
    },
    "id": "FHde7Pz1r1yv",
    "outputId": "1263db9e-918c-40e5-f884-1b0c6baa509a"
   },
   "outputs": [],
   "source": [
    "df_clus.insert(0, \"Cluster\", clusters, True)\n",
    "df_clus.head(10)"
   ]
  },
  {
   "cell_type": "code",
   "execution_count": null,
   "metadata": {
    "colab": {
     "base_uri": "https://localhost:8080/",
     "height": 1000
    },
    "id": "5VUqPIFzGpF6",
    "outputId": "db3ce9a3-478a-415e-c9bf-d1c053cf686f"
   },
   "outputs": [],
   "source": [
    "for col in all_features:\n",
    "    plt.subplots(figsize = (15,5))\n",
    "    sns.countplot(x='Cluster',hue=col, data = df_clus)\n",
    "    plt.show()\n"
   ]
  },
  {
   "cell_type": "markdown",
   "metadata": {
    "id": "CROesAYRFxEu"
   },
   "source": [
    "# Classification"
   ]
  },
  {
   "cell_type": "code",
   "execution_count": 338,
   "metadata": {
    "id": "Y3wtbSJ0Pyrz"
   },
   "outputs": [],
   "source": [
    "from sklearn.naive_bayes import GaussianNB\n",
    "from sklearn.ensemble import RandomForestClassifier\n",
    "from sklearn.metrics import confusion_matrix\n",
    "from sklearn.metrics import accuracy_score, precision_score, recall_score, f1_score\n",
    "\n",
    "from sklearn.metrics import roc_curve\n",
    "from sklearn.metrics import roc_auc_score\n",
    "from sklearn.metrics import precision_recall_curve"
   ]
  },
  {
   "cell_type": "code",
   "execution_count": 339,
   "metadata": {
    "colab": {
     "base_uri": "https://localhost:8080/"
    },
    "id": "8aULTTjPF31n",
    "outputId": "0eacc053-45cc-478f-a55f-198a87aabcc3"
   },
   "outputs": [
    {
     "name": "stdout",
     "output_type": "stream",
     "text": [
      "Accuracy on test set: 0.683\n",
      "AUC: 0.92\n",
      "Mjority classifier Confusion Matrix\n",
      " [[68  4]\n",
      " [42 31]]\n",
      "**\n",
      "Mjority TN=  68\n",
      "Mjority FP= 4\n",
      "Mjority FN=  42\n",
      "Mjority TP=  31\n",
      "**\n",
      "Precision= 0.89\n",
      "Recall= 0.42\n",
      "F1= 0.57\n",
      "Accuracy= 0.68\n"
     ]
    }
   ],
   "source": [
    "\n",
    "nb = GaussianNB()\n",
    "nb.fit(X_train, y_train)\n",
    "\n",
    "y_pred = nb.predict(X_test)\n",
    "y_pred\n",
    "\n",
    "nb.score(X_test, y_test)\n",
    "print(\"Accuracy on test set: {:.3f}\".format(nb.score(X_test, y_test)))\n",
    "\n",
    "\n",
    "\n",
    "prob_NB = nb.predict_proba(X_test)\n",
    "prob_NB = prob_NB[:,1]\n",
    "\n",
    "auc_NB= roc_auc_score(y_test, prob_NB)\n",
    "print('AUC: %.2f' % auc_NB)\n",
    "\n",
    "confusion_majority=confusion_matrix(y_test, y_pred)\n",
    "\n",
    "\n",
    "print('Mjority classifier Confusion Matrix\\n', confusion_majority)\n",
    "\n",
    "print('**')\n",
    "print('Mjority TN= ', confusion_majority[0][0])\n",
    "print('Mjority FP=', confusion_majority[0][1])\n",
    "print('Mjority FN= ', confusion_majority[1][0])\n",
    "print('Mjority TP= ', confusion_majority[1][1])\n",
    "print('**')\n",
    "\n",
    "print('Precision= {:.2f}'.format(precision_score(y_test, y_pred)))\n",
    "print('Recall= {:.2f}'. format(recall_score(y_test, y_pred)))\n",
    "print('F1= {:.2f}'. format(f1_score(y_test, y_pred)))\n",
    "print('Accuracy= {:.2f}'. format(accuracy_score(y_test, y_pred)))\n",
    "\n"
   ]
  },
  {
   "cell_type": "code",
   "execution_count": 340,
   "metadata": {
    "colab": {
     "base_uri": "https://localhost:8080/"
    },
    "id": "cshGTIpYP7oy",
    "outputId": "ec1bd577-53ca-40d7-ddd1-7ef0fddc330c"
   },
   "outputs": [
    {
     "name": "stdout",
     "output_type": "stream",
     "text": [
      "Accuracy on test set: 0.724\n",
      "AUC: 0.92\n",
      "Mjority classifier Confusion Matrix\n",
      " [[68  4]\n",
      " [42 31]]\n",
      "**\n",
      "Mjority TN=  68\n",
      "Mjority FP= 4\n",
      "Mjority FN=  42\n",
      "Mjority TP=  31\n",
      "**\n",
      "Precision= 0.89\n",
      "Recall= 0.42\n",
      "F1= 0.57\n",
      "Accuracy= 0.68\n"
     ]
    }
   ],
   "source": [
    "\n",
    "from sklearn.neighbors import KNeighborsClassifier\n",
    "knn = KNeighborsClassifier(n_neighbors=5)\n",
    " \n",
    "knn.fit(X_train, y_train)\n",
    "\n",
    "\n",
    "\n",
    "print(\"Accuracy on test set: {:.3f}\".format(knn.score(X_test, y_test)))\n",
    "\n",
    "prob_KNN = nb.predict_proba(X_test)\n",
    "prob_KNN = prob_KNN[:,1]\n",
    "\n",
    "auc_KNN= roc_auc_score(y_test, prob_KNN)\n",
    "print('AUC: %.2f' % auc_KNN)\n",
    "\n",
    "confusion_majority=confusion_matrix(y_test, y_pred)\n",
    "\n",
    "\n",
    "print('Mjority classifier Confusion Matrix\\n', confusion_majority)\n",
    "\n",
    "print('**')\n",
    "print('Mjority TN= ', confusion_majority[0][0])\n",
    "print('Mjority FP=', confusion_majority[0][1])\n",
    "print('Mjority FN= ', confusion_majority[1][0])\n",
    "print('Mjority TP= ', confusion_majority[1][1])\n",
    "print('**')\n",
    "\n",
    "print('Precision= {:.2f}'.format(precision_score(y_test, y_pred)))\n",
    "print('Recall= {:.2f}'. format(recall_score(y_test, y_pred)))\n",
    "print('F1= {:.2f}'. format(f1_score(y_test, y_pred)))\n",
    "print('Accuracy= {:.2f}'. format(accuracy_score(y_test, y_pred)))"
   ]
  },
  {
   "cell_type": "code",
   "execution_count": null,
   "metadata": {},
   "outputs": [],
   "source": []
  }
 ],
 "metadata": {
  "colab": {
   "collapsed_sections": [],
   "name": "DM_PROJECT.ipynb",
   "provenance": []
  },
  "kernelspec": {
   "display_name": "Python 3",
   "language": "python",
   "name": "python3"
  },
  "language_info": {
   "codemirror_mode": {
    "name": "ipython",
    "version": 3
   },
   "file_extension": ".py",
   "mimetype": "text/x-python",
   "name": "python",
   "nbconvert_exporter": "python",
   "pygments_lexer": "ipython3",
   "version": "3.8.8"
  }
 },
 "nbformat": 4,
 "nbformat_minor": 1
}
